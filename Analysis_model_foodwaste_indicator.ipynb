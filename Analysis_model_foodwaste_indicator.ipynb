{
 "cells": [
  {
   "cell_type": "markdown",
   "metadata": {},
   "source": [
    "## <b>Import Libraries"
   ]
  },
  {
   "cell_type": "code",
   "execution_count": 453,
   "metadata": {},
   "outputs": [],
   "source": [
    "import numpy as np\n",
    "import pandas as pd\n",
    "import matplotlib.pyplot as plt\n",
    "from sklearn.preprocessing import MinMaxScaler\n",
    "from sklearn.metrics import mean_squared_error, mean_absolute_error, r2_score\n",
    "import tensorflow as tf\n",
    "import seaborn as sns\n",
    "sns.set()"
   ]
  },
  {
   "cell_type": "markdown",
   "metadata": {},
   "source": [
    "## <b>Import Data"
   ]
  },
  {
   "cell_type": "code",
   "execution_count": 454,
   "metadata": {},
   "outputs": [],
   "source": [
    "df=pd.read_csv(\"C:/Users/Souhar/OneDrive/Desktop/Christ programming/MDS372(Machine Learning)/Final Project/Dataset/Food wastage data.csv\")"
   ]
  },
  {
   "cell_type": "code",
   "execution_count": 455,
   "metadata": {},
   "outputs": [
    {
     "name": "stdout",
     "output_type": "stream",
     "text": [
      "<class 'pandas.core.frame.DataFrame'>\n",
      "RangeIndex: 2136 entries, 0 to 2135\n",
      "Data columns (total 9 columns):\n",
      " #   Column                     Non-Null Count  Dtype  \n",
      "---  ------                     --------------  -----  \n",
      " 0   Country                    2136 non-null   object \n",
      " 1   Year                       2136 non-null   int64  \n",
      " 2   Food Category              2136 non-null   object \n",
      " 3   Total Waste (Tons)         2136 non-null   float64\n",
      " 4   Economic Loss (Million $)  2136 non-null   float64\n",
      " 5   Avg Waste per Capita (Kg)  2136 non-null   float64\n",
      " 6   Population (Million)       2136 non-null   float64\n",
      " 7   Household Waste (%)        2136 non-null   float64\n",
      " 8   Valid                      2136 non-null   object \n",
      "dtypes: float64(5), int64(1), object(3)\n",
      "memory usage: 150.3+ KB\n"
     ]
    }
   ],
   "source": [
    "df.info()"
   ]
  },
  {
   "cell_type": "code",
   "execution_count": 456,
   "metadata": {},
   "outputs": [],
   "source": [
    "df=df.drop(\"Valid\",axis=1)"
   ]
  },
  {
   "cell_type": "code",
   "execution_count": 457,
   "metadata": {},
   "outputs": [
    {
     "data": {
      "text/html": [
       "<div>\n",
       "<style scoped>\n",
       "    .dataframe tbody tr th:only-of-type {\n",
       "        vertical-align: middle;\n",
       "    }\n",
       "\n",
       "    .dataframe tbody tr th {\n",
       "        vertical-align: top;\n",
       "    }\n",
       "\n",
       "    .dataframe thead th {\n",
       "        text-align: right;\n",
       "    }\n",
       "</style>\n",
       "<table border=\"1\" class=\"dataframe\">\n",
       "  <thead>\n",
       "    <tr style=\"text-align: right;\">\n",
       "      <th></th>\n",
       "      <th>Country</th>\n",
       "      <th>Year</th>\n",
       "      <th>Food Category</th>\n",
       "      <th>Total Waste (Tons)</th>\n",
       "      <th>Economic Loss (Million $)</th>\n",
       "      <th>Avg Waste per Capita (Kg)</th>\n",
       "      <th>Population (Million)</th>\n",
       "      <th>Household Waste (%)</th>\n",
       "    </tr>\n",
       "  </thead>\n",
       "  <tbody>\n",
       "    <tr>\n",
       "      <th>0</th>\n",
       "      <td>France</td>\n",
       "      <td>2023</td>\n",
       "      <td>Fruits &amp; Vegetables</td>\n",
       "      <td>46299.69</td>\n",
       "      <td>40551.22</td>\n",
       "      <td>120.19</td>\n",
       "      <td>953.05</td>\n",
       "      <td>31.91</td>\n",
       "    </tr>\n",
       "    <tr>\n",
       "      <th>1</th>\n",
       "      <td>France</td>\n",
       "      <td>2023</td>\n",
       "      <td>Beverages</td>\n",
       "      <td>33096.57</td>\n",
       "      <td>36980.82</td>\n",
       "      <td>104.74</td>\n",
       "      <td>1105.47</td>\n",
       "      <td>36.06</td>\n",
       "    </tr>\n",
       "    <tr>\n",
       "      <th>2</th>\n",
       "      <td>India</td>\n",
       "      <td>2024</td>\n",
       "      <td>Fruits &amp; Vegetables</td>\n",
       "      <td>11962.89</td>\n",
       "      <td>11196.04</td>\n",
       "      <td>136.21</td>\n",
       "      <td>1311.91</td>\n",
       "      <td>37.09</td>\n",
       "    </tr>\n",
       "    <tr>\n",
       "      <th>3</th>\n",
       "      <td>Germany</td>\n",
       "      <td>2024</td>\n",
       "      <td>Prepared Food</td>\n",
       "      <td>45038.72</td>\n",
       "      <td>39191.25</td>\n",
       "      <td>179.27</td>\n",
       "      <td>1349.45</td>\n",
       "      <td>68.93</td>\n",
       "    </tr>\n",
       "    <tr>\n",
       "      <th>4</th>\n",
       "      <td>South Africa</td>\n",
       "      <td>2024</td>\n",
       "      <td>Frozen Food</td>\n",
       "      <td>39478.70</td>\n",
       "      <td>40087.26</td>\n",
       "      <td>155.55</td>\n",
       "      <td>375.84</td>\n",
       "      <td>31.16</td>\n",
       "    </tr>\n",
       "  </tbody>\n",
       "</table>\n",
       "</div>"
      ],
      "text/plain": [
       "        Country  Year        Food Category  Total Waste (Tons)  \\\n",
       "0        France  2023  Fruits & Vegetables            46299.69   \n",
       "1        France  2023            Beverages            33096.57   \n",
       "2         India  2024  Fruits & Vegetables            11962.89   \n",
       "3       Germany  2024        Prepared Food            45038.72   \n",
       "4  South Africa  2024          Frozen Food            39478.70   \n",
       "\n",
       "   Economic Loss (Million $)  Avg Waste per Capita (Kg)  Population (Million)  \\\n",
       "0                   40551.22                     120.19                953.05   \n",
       "1                   36980.82                     104.74               1105.47   \n",
       "2                   11196.04                     136.21               1311.91   \n",
       "3                   39191.25                     179.27               1349.45   \n",
       "4                   40087.26                     155.55                375.84   \n",
       "\n",
       "   Household Waste (%)  \n",
       "0                31.91  \n",
       "1                36.06  \n",
       "2                37.09  \n",
       "3                68.93  \n",
       "4                31.16  "
      ]
     },
     "execution_count": 457,
     "metadata": {},
     "output_type": "execute_result"
    }
   ],
   "source": [
    "df.head()"
   ]
  },
  {
   "cell_type": "code",
   "execution_count": 458,
   "metadata": {},
   "outputs": [
    {
     "data": {
      "text/html": [
       "<div>\n",
       "<style scoped>\n",
       "    .dataframe tbody tr th:only-of-type {\n",
       "        vertical-align: middle;\n",
       "    }\n",
       "\n",
       "    .dataframe tbody tr th {\n",
       "        vertical-align: top;\n",
       "    }\n",
       "\n",
       "    .dataframe thead th {\n",
       "        text-align: right;\n",
       "    }\n",
       "</style>\n",
       "<table border=\"1\" class=\"dataframe\">\n",
       "  <thead>\n",
       "    <tr style=\"text-align: right;\">\n",
       "      <th></th>\n",
       "      <th>Year</th>\n",
       "      <th>Total Waste (Tons)</th>\n",
       "      <th>Economic Loss (Million $)</th>\n",
       "      <th>Avg Waste per Capita (Kg)</th>\n",
       "      <th>Population (Million)</th>\n",
       "      <th>Household Waste (%)</th>\n",
       "    </tr>\n",
       "  </thead>\n",
       "  <tbody>\n",
       "    <tr>\n",
       "      <th>count</th>\n",
       "      <td>2136.000000</td>\n",
       "      <td>2136.000000</td>\n",
       "      <td>2136.000000</td>\n",
       "      <td>2136.000000</td>\n",
       "      <td>2136.000000</td>\n",
       "      <td>2136.000000</td>\n",
       "    </tr>\n",
       "    <tr>\n",
       "      <th>mean</th>\n",
       "      <td>2023.020131</td>\n",
       "      <td>25150.763085</td>\n",
       "      <td>25118.341142</td>\n",
       "      <td>110.421479</td>\n",
       "      <td>713.995665</td>\n",
       "      <td>49.924256</td>\n",
       "    </tr>\n",
       "    <tr>\n",
       "      <th>std</th>\n",
       "      <td>0.809237</td>\n",
       "      <td>14410.959446</td>\n",
       "      <td>14804.731003</td>\n",
       "      <td>51.931187</td>\n",
       "      <td>398.689942</td>\n",
       "      <td>11.428185</td>\n",
       "    </tr>\n",
       "    <tr>\n",
       "      <th>min</th>\n",
       "      <td>2022.000000</td>\n",
       "      <td>506.760000</td>\n",
       "      <td>467.630000</td>\n",
       "      <td>20.090000</td>\n",
       "      <td>11.580000</td>\n",
       "      <td>30.020000</td>\n",
       "    </tr>\n",
       "    <tr>\n",
       "      <th>25%</th>\n",
       "      <td>2022.000000</td>\n",
       "      <td>12531.602500</td>\n",
       "      <td>12308.245000</td>\n",
       "      <td>65.617500</td>\n",
       "      <td>361.502500</td>\n",
       "      <td>40.147500</td>\n",
       "    </tr>\n",
       "    <tr>\n",
       "      <th>50%</th>\n",
       "      <td>2023.000000</td>\n",
       "      <td>25261.220000</td>\n",
       "      <td>24507.530000</td>\n",
       "      <td>111.505000</td>\n",
       "      <td>725.295000</td>\n",
       "      <td>50.150000</td>\n",
       "    </tr>\n",
       "    <tr>\n",
       "      <th>75%</th>\n",
       "      <td>2024.000000</td>\n",
       "      <td>37859.067500</td>\n",
       "      <td>37546.505000</td>\n",
       "      <td>156.067500</td>\n",
       "      <td>1058.072500</td>\n",
       "      <td>59.780000</td>\n",
       "    </tr>\n",
       "    <tr>\n",
       "      <th>max</th>\n",
       "      <td>2024.000000</td>\n",
       "      <td>49990.760000</td>\n",
       "      <td>59228.930000</td>\n",
       "      <td>199.920000</td>\n",
       "      <td>1398.600000</td>\n",
       "      <td>69.990000</td>\n",
       "    </tr>\n",
       "  </tbody>\n",
       "</table>\n",
       "</div>"
      ],
      "text/plain": [
       "              Year  Total Waste (Tons)  Economic Loss (Million $)  \\\n",
       "count  2136.000000         2136.000000                2136.000000   \n",
       "mean   2023.020131        25150.763085               25118.341142   \n",
       "std       0.809237        14410.959446               14804.731003   \n",
       "min    2022.000000          506.760000                 467.630000   \n",
       "25%    2022.000000        12531.602500               12308.245000   \n",
       "50%    2023.000000        25261.220000               24507.530000   \n",
       "75%    2024.000000        37859.067500               37546.505000   \n",
       "max    2024.000000        49990.760000               59228.930000   \n",
       "\n",
       "       Avg Waste per Capita (Kg)  Population (Million)  Household Waste (%)  \n",
       "count                2136.000000           2136.000000          2136.000000  \n",
       "mean                  110.421479            713.995665            49.924256  \n",
       "std                    51.931187            398.689942            11.428185  \n",
       "min                    20.090000             11.580000            30.020000  \n",
       "25%                    65.617500            361.502500            40.147500  \n",
       "50%                   111.505000            725.295000            50.150000  \n",
       "75%                   156.067500           1058.072500            59.780000  \n",
       "max                   199.920000           1398.600000            69.990000  "
      ]
     },
     "execution_count": 458,
     "metadata": {},
     "output_type": "execute_result"
    }
   ],
   "source": [
    "df.describe()"
   ]
  },
  {
   "cell_type": "markdown",
   "metadata": {},
   "source": [
    "## <b>Data Preprocessing"
   ]
  },
  {
   "cell_type": "markdown",
   "metadata": {},
   "source": [
    "### <b>Missing value check"
   ]
  },
  {
   "cell_type": "code",
   "execution_count": 459,
   "metadata": {},
   "outputs": [
    {
     "data": {
      "text/plain": [
       "Country                      0\n",
       "Year                         0\n",
       "Food Category                0\n",
       "Total Waste (Tons)           0\n",
       "Economic Loss (Million $)    0\n",
       "Avg Waste per Capita (Kg)    0\n",
       "Population (Million)         0\n",
       "Household Waste (%)          0\n",
       "dtype: int64"
      ]
     },
     "execution_count": 459,
     "metadata": {},
     "output_type": "execute_result"
    }
   ],
   "source": [
    "df.isna().sum()"
   ]
  },
  {
   "cell_type": "markdown",
   "metadata": {},
   "source": [
    "No missing values, we proceed to next steps"
   ]
  },
  {
   "cell_type": "markdown",
   "metadata": {},
   "source": [
    "### <b>Encoding categorical variables"
   ]
  },
  {
   "cell_type": "code",
   "execution_count": 460,
   "metadata": {},
   "outputs": [
    {
     "data": {
      "text/plain": [
       "array(['Fruits & Vegetables', 'Beverages', 'Prepared Food', 'Frozen Food',\n",
       "       'Meat & Seafood', 'Grains & Cereals', 'Bakery Items',\n",
       "       'Dairy Products'], dtype=object)"
      ]
     },
     "execution_count": 460,
     "metadata": {},
     "output_type": "execute_result"
    }
   ],
   "source": [
    "df[\"Food Category\"].unique()"
   ]
  },
  {
   "cell_type": "code",
   "execution_count": 461,
   "metadata": {},
   "outputs": [
    {
     "data": {
      "text/html": [
       "<div>\n",
       "<style scoped>\n",
       "    .dataframe tbody tr th:only-of-type {\n",
       "        vertical-align: middle;\n",
       "    }\n",
       "\n",
       "    .dataframe tbody tr th {\n",
       "        vertical-align: top;\n",
       "    }\n",
       "\n",
       "    .dataframe thead th {\n",
       "        text-align: right;\n",
       "    }\n",
       "</style>\n",
       "<table border=\"1\" class=\"dataframe\">\n",
       "  <thead>\n",
       "    <tr style=\"text-align: right;\">\n",
       "      <th></th>\n",
       "      <th>Country</th>\n",
       "      <th>Year</th>\n",
       "      <th>Total Waste (Tons)</th>\n",
       "      <th>Economic Loss (Million $)</th>\n",
       "      <th>Avg Waste per Capita (Kg)</th>\n",
       "      <th>Population (Million)</th>\n",
       "      <th>Household Waste (%)</th>\n",
       "      <th>Food Category_Bakery Items</th>\n",
       "      <th>Food Category_Beverages</th>\n",
       "      <th>Food Category_Dairy Products</th>\n",
       "      <th>Food Category_Frozen Food</th>\n",
       "      <th>Food Category_Fruits &amp; Vegetables</th>\n",
       "      <th>Food Category_Grains &amp; Cereals</th>\n",
       "      <th>Food Category_Meat &amp; Seafood</th>\n",
       "      <th>Food Category_Prepared Food</th>\n",
       "    </tr>\n",
       "  </thead>\n",
       "  <tbody>\n",
       "    <tr>\n",
       "      <th>0</th>\n",
       "      <td>France</td>\n",
       "      <td>2023</td>\n",
       "      <td>46299.69</td>\n",
       "      <td>40551.22</td>\n",
       "      <td>120.19</td>\n",
       "      <td>953.05</td>\n",
       "      <td>31.91</td>\n",
       "      <td>0.0</td>\n",
       "      <td>0.0</td>\n",
       "      <td>0.0</td>\n",
       "      <td>0.0</td>\n",
       "      <td>1.0</td>\n",
       "      <td>0.0</td>\n",
       "      <td>0.0</td>\n",
       "      <td>0.0</td>\n",
       "    </tr>\n",
       "    <tr>\n",
       "      <th>1</th>\n",
       "      <td>France</td>\n",
       "      <td>2023</td>\n",
       "      <td>33096.57</td>\n",
       "      <td>36980.82</td>\n",
       "      <td>104.74</td>\n",
       "      <td>1105.47</td>\n",
       "      <td>36.06</td>\n",
       "      <td>0.0</td>\n",
       "      <td>1.0</td>\n",
       "      <td>0.0</td>\n",
       "      <td>0.0</td>\n",
       "      <td>0.0</td>\n",
       "      <td>0.0</td>\n",
       "      <td>0.0</td>\n",
       "      <td>0.0</td>\n",
       "    </tr>\n",
       "    <tr>\n",
       "      <th>2</th>\n",
       "      <td>India</td>\n",
       "      <td>2024</td>\n",
       "      <td>11962.89</td>\n",
       "      <td>11196.04</td>\n",
       "      <td>136.21</td>\n",
       "      <td>1311.91</td>\n",
       "      <td>37.09</td>\n",
       "      <td>0.0</td>\n",
       "      <td>0.0</td>\n",
       "      <td>0.0</td>\n",
       "      <td>0.0</td>\n",
       "      <td>1.0</td>\n",
       "      <td>0.0</td>\n",
       "      <td>0.0</td>\n",
       "      <td>0.0</td>\n",
       "    </tr>\n",
       "    <tr>\n",
       "      <th>3</th>\n",
       "      <td>Germany</td>\n",
       "      <td>2024</td>\n",
       "      <td>45038.72</td>\n",
       "      <td>39191.25</td>\n",
       "      <td>179.27</td>\n",
       "      <td>1349.45</td>\n",
       "      <td>68.93</td>\n",
       "      <td>0.0</td>\n",
       "      <td>0.0</td>\n",
       "      <td>0.0</td>\n",
       "      <td>0.0</td>\n",
       "      <td>0.0</td>\n",
       "      <td>0.0</td>\n",
       "      <td>0.0</td>\n",
       "      <td>1.0</td>\n",
       "    </tr>\n",
       "    <tr>\n",
       "      <th>4</th>\n",
       "      <td>South Africa</td>\n",
       "      <td>2024</td>\n",
       "      <td>39478.70</td>\n",
       "      <td>40087.26</td>\n",
       "      <td>155.55</td>\n",
       "      <td>375.84</td>\n",
       "      <td>31.16</td>\n",
       "      <td>0.0</td>\n",
       "      <td>0.0</td>\n",
       "      <td>0.0</td>\n",
       "      <td>1.0</td>\n",
       "      <td>0.0</td>\n",
       "      <td>0.0</td>\n",
       "      <td>0.0</td>\n",
       "      <td>0.0</td>\n",
       "    </tr>\n",
       "  </tbody>\n",
       "</table>\n",
       "</div>"
      ],
      "text/plain": [
       "        Country  Year  Total Waste (Tons)  Economic Loss (Million $)  \\\n",
       "0        France  2023            46299.69                   40551.22   \n",
       "1        France  2023            33096.57                   36980.82   \n",
       "2         India  2024            11962.89                   11196.04   \n",
       "3       Germany  2024            45038.72                   39191.25   \n",
       "4  South Africa  2024            39478.70                   40087.26   \n",
       "\n",
       "   Avg Waste per Capita (Kg)  Population (Million)  Household Waste (%)  \\\n",
       "0                     120.19                953.05                31.91   \n",
       "1                     104.74               1105.47                36.06   \n",
       "2                     136.21               1311.91                37.09   \n",
       "3                     179.27               1349.45                68.93   \n",
       "4                     155.55                375.84                31.16   \n",
       "\n",
       "   Food Category_Bakery Items  Food Category_Beverages  \\\n",
       "0                         0.0                      0.0   \n",
       "1                         0.0                      1.0   \n",
       "2                         0.0                      0.0   \n",
       "3                         0.0                      0.0   \n",
       "4                         0.0                      0.0   \n",
       "\n",
       "   Food Category_Dairy Products  Food Category_Frozen Food  \\\n",
       "0                           0.0                        0.0   \n",
       "1                           0.0                        0.0   \n",
       "2                           0.0                        0.0   \n",
       "3                           0.0                        0.0   \n",
       "4                           0.0                        1.0   \n",
       "\n",
       "   Food Category_Fruits & Vegetables  Food Category_Grains & Cereals  \\\n",
       "0                                1.0                             0.0   \n",
       "1                                0.0                             0.0   \n",
       "2                                1.0                             0.0   \n",
       "3                                0.0                             0.0   \n",
       "4                                0.0                             0.0   \n",
       "\n",
       "   Food Category_Meat & Seafood  Food Category_Prepared Food  \n",
       "0                           0.0                          0.0  \n",
       "1                           0.0                          0.0  \n",
       "2                           0.0                          0.0  \n",
       "3                           0.0                          1.0  \n",
       "4                           0.0                          0.0  "
      ]
     },
     "execution_count": 461,
     "metadata": {},
     "output_type": "execute_result"
    }
   ],
   "source": [
    "from sklearn.preprocessing import OneHotEncoder\n",
    "\n",
    "onehot_encoder = OneHotEncoder(sparse_output=False)  # Updated parameter name\n",
    "\n",
    "encoded_array = onehot_encoder.fit_transform(df[[\"Food Category\"]])\n",
    "encoded_df = pd.DataFrame(encoded_array, columns=onehot_encoder.get_feature_names_out([\"Food Category\"]))\n",
    "\n",
    "df = pd.concat([df, encoded_df], axis=1)\n",
    "df=df.drop(\"Food Category\",axis=1)\n",
    "df.head()"
   ]
  },
  {
   "cell_type": "code",
   "execution_count": null,
   "metadata": {},
   "outputs": [],
   "source": []
  },
  {
   "cell_type": "markdown",
   "metadata": {},
   "source": [
    "### <b>Feature Engineering for classification task"
   ]
  },
  {
   "cell_type": "code",
   "execution_count": 462,
   "metadata": {},
   "outputs": [],
   "source": [
    "df[\"Waste Category\"] = pd.qcut(df[\"Total Waste (Tons)\"], q=3, labels=[\"Low\", \"Medium\", \"High\"])\n"
   ]
  },
  {
   "cell_type": "code",
   "execution_count": 463,
   "metadata": {},
   "outputs": [
    {
     "data": {
      "text/html": [
       "<div>\n",
       "<style scoped>\n",
       "    .dataframe tbody tr th:only-of-type {\n",
       "        vertical-align: middle;\n",
       "    }\n",
       "\n",
       "    .dataframe tbody tr th {\n",
       "        vertical-align: top;\n",
       "    }\n",
       "\n",
       "    .dataframe thead th {\n",
       "        text-align: right;\n",
       "    }\n",
       "</style>\n",
       "<table border=\"1\" class=\"dataframe\">\n",
       "  <thead>\n",
       "    <tr style=\"text-align: right;\">\n",
       "      <th></th>\n",
       "      <th>Country</th>\n",
       "      <th>Year</th>\n",
       "      <th>Total Waste (Tons)</th>\n",
       "      <th>Economic Loss (Million $)</th>\n",
       "      <th>Avg Waste per Capita (Kg)</th>\n",
       "      <th>Population (Million)</th>\n",
       "      <th>Household Waste (%)</th>\n",
       "      <th>Food Category_Bakery Items</th>\n",
       "      <th>Food Category_Beverages</th>\n",
       "      <th>Food Category_Dairy Products</th>\n",
       "      <th>Food Category_Frozen Food</th>\n",
       "      <th>Food Category_Fruits &amp; Vegetables</th>\n",
       "      <th>Food Category_Grains &amp; Cereals</th>\n",
       "      <th>Food Category_Meat &amp; Seafood</th>\n",
       "      <th>Food Category_Prepared Food</th>\n",
       "      <th>Waste Category</th>\n",
       "    </tr>\n",
       "  </thead>\n",
       "  <tbody>\n",
       "    <tr>\n",
       "      <th>0</th>\n",
       "      <td>France</td>\n",
       "      <td>2023</td>\n",
       "      <td>46299.69</td>\n",
       "      <td>40551.22</td>\n",
       "      <td>120.19</td>\n",
       "      <td>953.05</td>\n",
       "      <td>31.91</td>\n",
       "      <td>0.0</td>\n",
       "      <td>0.0</td>\n",
       "      <td>0.0</td>\n",
       "      <td>0.0</td>\n",
       "      <td>1.0</td>\n",
       "      <td>0.0</td>\n",
       "      <td>0.0</td>\n",
       "      <td>0.0</td>\n",
       "      <td>High</td>\n",
       "    </tr>\n",
       "    <tr>\n",
       "      <th>1</th>\n",
       "      <td>France</td>\n",
       "      <td>2023</td>\n",
       "      <td>33096.57</td>\n",
       "      <td>36980.82</td>\n",
       "      <td>104.74</td>\n",
       "      <td>1105.47</td>\n",
       "      <td>36.06</td>\n",
       "      <td>0.0</td>\n",
       "      <td>1.0</td>\n",
       "      <td>0.0</td>\n",
       "      <td>0.0</td>\n",
       "      <td>0.0</td>\n",
       "      <td>0.0</td>\n",
       "      <td>0.0</td>\n",
       "      <td>0.0</td>\n",
       "      <td>Medium</td>\n",
       "    </tr>\n",
       "    <tr>\n",
       "      <th>2</th>\n",
       "      <td>India</td>\n",
       "      <td>2024</td>\n",
       "      <td>11962.89</td>\n",
       "      <td>11196.04</td>\n",
       "      <td>136.21</td>\n",
       "      <td>1311.91</td>\n",
       "      <td>37.09</td>\n",
       "      <td>0.0</td>\n",
       "      <td>0.0</td>\n",
       "      <td>0.0</td>\n",
       "      <td>0.0</td>\n",
       "      <td>1.0</td>\n",
       "      <td>0.0</td>\n",
       "      <td>0.0</td>\n",
       "      <td>0.0</td>\n",
       "      <td>Low</td>\n",
       "    </tr>\n",
       "    <tr>\n",
       "      <th>3</th>\n",
       "      <td>Germany</td>\n",
       "      <td>2024</td>\n",
       "      <td>45038.72</td>\n",
       "      <td>39191.25</td>\n",
       "      <td>179.27</td>\n",
       "      <td>1349.45</td>\n",
       "      <td>68.93</td>\n",
       "      <td>0.0</td>\n",
       "      <td>0.0</td>\n",
       "      <td>0.0</td>\n",
       "      <td>0.0</td>\n",
       "      <td>0.0</td>\n",
       "      <td>0.0</td>\n",
       "      <td>0.0</td>\n",
       "      <td>1.0</td>\n",
       "      <td>High</td>\n",
       "    </tr>\n",
       "    <tr>\n",
       "      <th>4</th>\n",
       "      <td>South Africa</td>\n",
       "      <td>2024</td>\n",
       "      <td>39478.70</td>\n",
       "      <td>40087.26</td>\n",
       "      <td>155.55</td>\n",
       "      <td>375.84</td>\n",
       "      <td>31.16</td>\n",
       "      <td>0.0</td>\n",
       "      <td>0.0</td>\n",
       "      <td>0.0</td>\n",
       "      <td>1.0</td>\n",
       "      <td>0.0</td>\n",
       "      <td>0.0</td>\n",
       "      <td>0.0</td>\n",
       "      <td>0.0</td>\n",
       "      <td>High</td>\n",
       "    </tr>\n",
       "  </tbody>\n",
       "</table>\n",
       "</div>"
      ],
      "text/plain": [
       "        Country  Year  Total Waste (Tons)  Economic Loss (Million $)  \\\n",
       "0        France  2023            46299.69                   40551.22   \n",
       "1        France  2023            33096.57                   36980.82   \n",
       "2         India  2024            11962.89                   11196.04   \n",
       "3       Germany  2024            45038.72                   39191.25   \n",
       "4  South Africa  2024            39478.70                   40087.26   \n",
       "\n",
       "   Avg Waste per Capita (Kg)  Population (Million)  Household Waste (%)  \\\n",
       "0                     120.19                953.05                31.91   \n",
       "1                     104.74               1105.47                36.06   \n",
       "2                     136.21               1311.91                37.09   \n",
       "3                     179.27               1349.45                68.93   \n",
       "4                     155.55                375.84                31.16   \n",
       "\n",
       "   Food Category_Bakery Items  Food Category_Beverages  \\\n",
       "0                         0.0                      0.0   \n",
       "1                         0.0                      1.0   \n",
       "2                         0.0                      0.0   \n",
       "3                         0.0                      0.0   \n",
       "4                         0.0                      0.0   \n",
       "\n",
       "   Food Category_Dairy Products  Food Category_Frozen Food  \\\n",
       "0                           0.0                        0.0   \n",
       "1                           0.0                        0.0   \n",
       "2                           0.0                        0.0   \n",
       "3                           0.0                        0.0   \n",
       "4                           0.0                        1.0   \n",
       "\n",
       "   Food Category_Fruits & Vegetables  Food Category_Grains & Cereals  \\\n",
       "0                                1.0                             0.0   \n",
       "1                                0.0                             0.0   \n",
       "2                                1.0                             0.0   \n",
       "3                                0.0                             0.0   \n",
       "4                                0.0                             0.0   \n",
       "\n",
       "   Food Category_Meat & Seafood  Food Category_Prepared Food Waste Category  \n",
       "0                           0.0                          0.0           High  \n",
       "1                           0.0                          0.0         Medium  \n",
       "2                           0.0                          0.0            Low  \n",
       "3                           0.0                          1.0           High  \n",
       "4                           0.0                          0.0           High  "
      ]
     },
     "execution_count": 463,
     "metadata": {},
     "output_type": "execute_result"
    }
   ],
   "source": [
    "df.head()"
   ]
  },
  {
   "cell_type": "markdown",
   "metadata": {},
   "source": [
    "<b>Encoding Response variable"
   ]
  },
  {
   "cell_type": "code",
   "execution_count": 464,
   "metadata": {},
   "outputs": [
    {
     "data": {
      "text/html": [
       "<div>\n",
       "<style scoped>\n",
       "    .dataframe tbody tr th:only-of-type {\n",
       "        vertical-align: middle;\n",
       "    }\n",
       "\n",
       "    .dataframe tbody tr th {\n",
       "        vertical-align: top;\n",
       "    }\n",
       "\n",
       "    .dataframe thead th {\n",
       "        text-align: right;\n",
       "    }\n",
       "</style>\n",
       "<table border=\"1\" class=\"dataframe\">\n",
       "  <thead>\n",
       "    <tr style=\"text-align: right;\">\n",
       "      <th></th>\n",
       "      <th>Country</th>\n",
       "      <th>Year</th>\n",
       "      <th>Total Waste (Tons)</th>\n",
       "      <th>Economic Loss (Million $)</th>\n",
       "      <th>Avg Waste per Capita (Kg)</th>\n",
       "      <th>Population (Million)</th>\n",
       "      <th>Household Waste (%)</th>\n",
       "      <th>Food Category_Bakery Items</th>\n",
       "      <th>Food Category_Beverages</th>\n",
       "      <th>Food Category_Dairy Products</th>\n",
       "      <th>Food Category_Frozen Food</th>\n",
       "      <th>Food Category_Fruits &amp; Vegetables</th>\n",
       "      <th>Food Category_Grains &amp; Cereals</th>\n",
       "      <th>Food Category_Meat &amp; Seafood</th>\n",
       "      <th>Food Category_Prepared Food</th>\n",
       "      <th>Waste Category Encoded</th>\n",
       "    </tr>\n",
       "  </thead>\n",
       "  <tbody>\n",
       "    <tr>\n",
       "      <th>0</th>\n",
       "      <td>France</td>\n",
       "      <td>2023</td>\n",
       "      <td>46299.69</td>\n",
       "      <td>40551.22</td>\n",
       "      <td>120.19</td>\n",
       "      <td>953.05</td>\n",
       "      <td>31.91</td>\n",
       "      <td>0.0</td>\n",
       "      <td>0.0</td>\n",
       "      <td>0.0</td>\n",
       "      <td>0.0</td>\n",
       "      <td>1.0</td>\n",
       "      <td>0.0</td>\n",
       "      <td>0.0</td>\n",
       "      <td>0.0</td>\n",
       "      <td>2.0</td>\n",
       "    </tr>\n",
       "    <tr>\n",
       "      <th>1</th>\n",
       "      <td>France</td>\n",
       "      <td>2023</td>\n",
       "      <td>33096.57</td>\n",
       "      <td>36980.82</td>\n",
       "      <td>104.74</td>\n",
       "      <td>1105.47</td>\n",
       "      <td>36.06</td>\n",
       "      <td>0.0</td>\n",
       "      <td>1.0</td>\n",
       "      <td>0.0</td>\n",
       "      <td>0.0</td>\n",
       "      <td>0.0</td>\n",
       "      <td>0.0</td>\n",
       "      <td>0.0</td>\n",
       "      <td>0.0</td>\n",
       "      <td>1.0</td>\n",
       "    </tr>\n",
       "    <tr>\n",
       "      <th>2</th>\n",
       "      <td>India</td>\n",
       "      <td>2024</td>\n",
       "      <td>11962.89</td>\n",
       "      <td>11196.04</td>\n",
       "      <td>136.21</td>\n",
       "      <td>1311.91</td>\n",
       "      <td>37.09</td>\n",
       "      <td>0.0</td>\n",
       "      <td>0.0</td>\n",
       "      <td>0.0</td>\n",
       "      <td>0.0</td>\n",
       "      <td>1.0</td>\n",
       "      <td>0.0</td>\n",
       "      <td>0.0</td>\n",
       "      <td>0.0</td>\n",
       "      <td>0.0</td>\n",
       "    </tr>\n",
       "    <tr>\n",
       "      <th>3</th>\n",
       "      <td>Germany</td>\n",
       "      <td>2024</td>\n",
       "      <td>45038.72</td>\n",
       "      <td>39191.25</td>\n",
       "      <td>179.27</td>\n",
       "      <td>1349.45</td>\n",
       "      <td>68.93</td>\n",
       "      <td>0.0</td>\n",
       "      <td>0.0</td>\n",
       "      <td>0.0</td>\n",
       "      <td>0.0</td>\n",
       "      <td>0.0</td>\n",
       "      <td>0.0</td>\n",
       "      <td>0.0</td>\n",
       "      <td>1.0</td>\n",
       "      <td>2.0</td>\n",
       "    </tr>\n",
       "    <tr>\n",
       "      <th>4</th>\n",
       "      <td>South Africa</td>\n",
       "      <td>2024</td>\n",
       "      <td>39478.70</td>\n",
       "      <td>40087.26</td>\n",
       "      <td>155.55</td>\n",
       "      <td>375.84</td>\n",
       "      <td>31.16</td>\n",
       "      <td>0.0</td>\n",
       "      <td>0.0</td>\n",
       "      <td>0.0</td>\n",
       "      <td>1.0</td>\n",
       "      <td>0.0</td>\n",
       "      <td>0.0</td>\n",
       "      <td>0.0</td>\n",
       "      <td>0.0</td>\n",
       "      <td>2.0</td>\n",
       "    </tr>\n",
       "  </tbody>\n",
       "</table>\n",
       "</div>"
      ],
      "text/plain": [
       "        Country  Year  Total Waste (Tons)  Economic Loss (Million $)  \\\n",
       "0        France  2023            46299.69                   40551.22   \n",
       "1        France  2023            33096.57                   36980.82   \n",
       "2         India  2024            11962.89                   11196.04   \n",
       "3       Germany  2024            45038.72                   39191.25   \n",
       "4  South Africa  2024            39478.70                   40087.26   \n",
       "\n",
       "   Avg Waste per Capita (Kg)  Population (Million)  Household Waste (%)  \\\n",
       "0                     120.19                953.05                31.91   \n",
       "1                     104.74               1105.47                36.06   \n",
       "2                     136.21               1311.91                37.09   \n",
       "3                     179.27               1349.45                68.93   \n",
       "4                     155.55                375.84                31.16   \n",
       "\n",
       "   Food Category_Bakery Items  Food Category_Beverages  \\\n",
       "0                         0.0                      0.0   \n",
       "1                         0.0                      1.0   \n",
       "2                         0.0                      0.0   \n",
       "3                         0.0                      0.0   \n",
       "4                         0.0                      0.0   \n",
       "\n",
       "   Food Category_Dairy Products  Food Category_Frozen Food  \\\n",
       "0                           0.0                        0.0   \n",
       "1                           0.0                        0.0   \n",
       "2                           0.0                        0.0   \n",
       "3                           0.0                        0.0   \n",
       "4                           0.0                        1.0   \n",
       "\n",
       "   Food Category_Fruits & Vegetables  Food Category_Grains & Cereals  \\\n",
       "0                                1.0                             0.0   \n",
       "1                                0.0                             0.0   \n",
       "2                                1.0                             0.0   \n",
       "3                                0.0                             0.0   \n",
       "4                                0.0                             0.0   \n",
       "\n",
       "   Food Category_Meat & Seafood  Food Category_Prepared Food  \\\n",
       "0                           0.0                          0.0   \n",
       "1                           0.0                          0.0   \n",
       "2                           0.0                          0.0   \n",
       "3                           0.0                          1.0   \n",
       "4                           0.0                          0.0   \n",
       "\n",
       "   Waste Category Encoded  \n",
       "0                     2.0  \n",
       "1                     1.0  \n",
       "2                     0.0  \n",
       "3                     2.0  \n",
       "4                     2.0  "
      ]
     },
     "execution_count": 464,
     "metadata": {},
     "output_type": "execute_result"
    }
   ],
   "source": [
    "from sklearn.preprocessing import OrdinalEncoder\n",
    "\n",
    "waste_category_order = [[\"Low\", \"Medium\", \"High\"]]\n",
    "\n",
    "encoder = OrdinalEncoder(categories=waste_category_order)\n",
    "df[\"Waste Category Encoded\"] = encoder.fit_transform(df[[\"Waste Category\"]])\n",
    "df=df.drop([\"Waste Category\"],axis=1)\n",
    "df.head()\n"
   ]
  },
  {
   "cell_type": "code",
   "execution_count": 465,
   "metadata": {},
   "outputs": [
    {
     "data": {
      "text/plain": [
       "16"
      ]
     },
     "execution_count": 465,
     "metadata": {},
     "output_type": "execute_result"
    }
   ],
   "source": [
    "df.shape[1]"
   ]
  },
  {
   "cell_type": "markdown",
   "metadata": {},
   "source": [
    "## <b>Feature Importance and Selection"
   ]
  },
  {
   "cell_type": "code",
   "execution_count": 466,
   "metadata": {},
   "outputs": [],
   "source": [
    "X=df.drop([\"Waste Category Encoded\",\"Country\",\"Total Waste (Tons)\"],axis=1)\n",
    "y=df[\"Waste Category Encoded\"]"
   ]
  },
  {
   "cell_type": "code",
   "execution_count": 467,
   "metadata": {},
   "outputs": [
    {
     "name": "stderr",
     "output_type": "stream",
     "text": [
      "c:\\Users\\Souhar\\AppData\\Local\\Programs\\Python\\Python312\\Lib\\site-packages\\sklearn\\feature_selection\\_rfe.py:300: UserWarning: Found n_features_to_select=14 > n_features=13. There will be no feature selection and all features will be kept.\n",
      "  warnings.warn(\n"
     ]
    },
    {
     "data": {
      "image/png": "[encoded data removed]",
      "text/plain": [
       "<Figure size 1000x600 with 1 Axes>"
      ]
     },
     "metadata": {},
     "output_type": "display_data"
    },
    {
     "name": "stdout",
     "output_type": "stream",
     "text": [
      "Year: 0.0151\n",
      "Economic Loss (Million $): 0.7621\n",
      "Avg Waste per Capita (Kg): 0.0661\n",
      "Population (Million): 0.0630\n",
      "Household Waste (%): 0.0629\n",
      "Food Category_Bakery Items: 0.0035\n",
      "Food Category_Beverages: 0.0042\n",
      "Food Category_Dairy Products: 0.0034\n",
      "Food Category_Frozen Food: 0.0037\n",
      "Food Category_Fruits & Vegetables: 0.0046\n",
      "Food Category_Grains & Cereals: 0.0037\n",
      "Food Category_Meat & Seafood: 0.0037\n",
      "Food Category_Prepared Food: 0.0040\n"
     ]
    }
   ],
   "source": [
    "from sklearn.feature_selection import RFE\n",
    "from sklearn.ensemble import RandomForestClassifier\n",
    "\n",
    "model = RandomForestClassifier()\n",
    "\n",
    "rfe = RFE(estimator=model, n_features_to_select=14) \n",
    "rfe.fit(X, y)  \n",
    "\n",
    "feature_importances = rfe.estimator_.feature_importances_\n",
    "selected_features = X.columns[rfe.support_]  \n",
    "\n",
    "plt.figure(figsize=(10, 6))\n",
    "plt.barh(selected_features, feature_importances)\n",
    "plt.xlabel(\"Feature Importance\")\n",
    "plt.ylabel(\"Features\")\n",
    "plt.title(\"Important Features for Food Waste Prediction\")\n",
    "plt.show()\n",
    "\n",
    "# Print selected features and their importance scores\n",
    "for feature, importance in zip(selected_features, feature_importances):\n",
    "    print(f\"{feature}: {importance:.4f}\")\n"
   ]
  },
  {
   "cell_type": "markdown",
   "metadata": {},
   "source": [
    "We see that food categories have very less importance in the data. So we drop them"
   ]
  },
  {
   "cell_type": "markdown",
   "metadata": {},
   "source": [
    "### <b> Dropping food categories"
   ]
  },
  {
   "cell_type": "code",
   "execution_count": 468,
   "metadata": {},
   "outputs": [
    {
     "name": "stdout",
     "output_type": "stream",
     "text": [
      "Selected Features: Index(['Year', 'Economic Loss (Million $)', 'Avg Waste per Capita (Kg)',\n",
      "       'Population (Million)', 'Household Waste (%)'],\n",
      "      dtype='object')\n"
     ]
    }
   ],
   "source": [
    "threshold = 0.01\n",
    "\n",
    "selected_features = feature_names[feature_importances >= threshold]\n",
    "\n",
    "print(\"Selected Features:\", selected_features)"
   ]
  },
  {
   "cell_type": "code",
   "execution_count": 469,
   "metadata": {},
   "outputs": [
    {
     "data": {
      "text/html": [
       "<div>\n",
       "<style scoped>\n",
       "    .dataframe tbody tr th:only-of-type {\n",
       "        vertical-align: middle;\n",
       "    }\n",
       "\n",
       "    .dataframe tbody tr th {\n",
       "        vertical-align: top;\n",
       "    }\n",
       "\n",
       "    .dataframe thead th {\n",
       "        text-align: right;\n",
       "    }\n",
       "</style>\n",
       "<table border=\"1\" class=\"dataframe\">\n",
       "  <thead>\n",
       "    <tr style=\"text-align: right;\">\n",
       "      <th></th>\n",
       "      <th>Year</th>\n",
       "      <th>Economic Loss (Million $)</th>\n",
       "      <th>Avg Waste per Capita (Kg)</th>\n",
       "      <th>Population (Million)</th>\n",
       "      <th>Household Waste (%)</th>\n",
       "    </tr>\n",
       "  </thead>\n",
       "  <tbody>\n",
       "    <tr>\n",
       "      <th>0</th>\n",
       "      <td>2023</td>\n",
       "      <td>40551.22</td>\n",
       "      <td>120.19</td>\n",
       "      <td>953.05</td>\n",
       "      <td>31.91</td>\n",
       "    </tr>\n",
       "    <tr>\n",
       "      <th>1</th>\n",
       "      <td>2023</td>\n",
       "      <td>36980.82</td>\n",
       "      <td>104.74</td>\n",
       "      <td>1105.47</td>\n",
       "      <td>36.06</td>\n",
       "    </tr>\n",
       "    <tr>\n",
       "      <th>2</th>\n",
       "      <td>2024</td>\n",
       "      <td>11196.04</td>\n",
       "      <td>136.21</td>\n",
       "      <td>1311.91</td>\n",
       "      <td>37.09</td>\n",
       "    </tr>\n",
       "    <tr>\n",
       "      <th>3</th>\n",
       "      <td>2024</td>\n",
       "      <td>39191.25</td>\n",
       "      <td>179.27</td>\n",
       "      <td>1349.45</td>\n",
       "      <td>68.93</td>\n",
       "    </tr>\n",
       "    <tr>\n",
       "      <th>4</th>\n",
       "      <td>2024</td>\n",
       "      <td>40087.26</td>\n",
       "      <td>155.55</td>\n",
       "      <td>375.84</td>\n",
       "      <td>31.16</td>\n",
       "    </tr>\n",
       "  </tbody>\n",
       "</table>\n",
       "</div>"
      ],
      "text/plain": [
       "   Year  Economic Loss (Million $)  Avg Waste per Capita (Kg)  \\\n",
       "0  2023                   40551.22                     120.19   \n",
       "1  2023                   36980.82                     104.74   \n",
       "2  2024                   11196.04                     136.21   \n",
       "3  2024                   39191.25                     179.27   \n",
       "4  2024                   40087.26                     155.55   \n",
       "\n",
       "   Population (Million)  Household Waste (%)  \n",
       "0                953.05                31.91  \n",
       "1               1105.47                36.06  \n",
       "2               1311.91                37.09  \n",
       "3               1349.45                68.93  \n",
       "4                375.84                31.16  "
      ]
     },
     "execution_count": 469,
     "metadata": {},
     "output_type": "execute_result"
    }
   ],
   "source": [
    "df1 = X[selected_features]\n",
    "df1.head()"
   ]
  },
  {
   "cell_type": "markdown",
   "metadata": {},
   "source": [
    "<b>Reintroducing important columns"
   ]
  },
  {
   "cell_type": "code",
   "execution_count": 470,
   "metadata": {},
   "outputs": [
    {
     "name": "stderr",
     "output_type": "stream",
     "text": [
      "C:\\Users\\Souhar\\AppData\\Local\\Temp\\ipykernel_13536\\3108425342.py:1: SettingWithCopyWarning: \n",
      "A value is trying to be set on a copy of a slice from a DataFrame.\n",
      "Try using .loc[row_indexer,col_indexer] = value instead\n",
      "\n",
      "See the caveats in the documentation: https://pandas.pydata.org/pandas-docs/stable/user_guide/indexing.html#returning-a-view-versus-a-copy\n",
      "  df1[\"Total Waste (Tons)\"]=df[\"Total Waste (Tons)\"]\n"
     ]
    }
   ],
   "source": [
    "df1[\"Total Waste (Tons)\"]=df[\"Total Waste (Tons)\"]"
   ]
  },
  {
   "cell_type": "code",
   "execution_count": 471,
   "metadata": {},
   "outputs": [
    {
     "name": "stderr",
     "output_type": "stream",
     "text": [
      "C:\\Users\\Souhar\\AppData\\Local\\Temp\\ipykernel_13536\\2912594475.py:1: SettingWithCopyWarning: \n",
      "A value is trying to be set on a copy of a slice from a DataFrame.\n",
      "Try using .loc[row_indexer,col_indexer] = value instead\n",
      "\n",
      "See the caveats in the documentation: https://pandas.pydata.org/pandas-docs/stable/user_guide/indexing.html#returning-a-view-versus-a-copy\n",
      "  df1[\"Country\"]=df[\"Country\"]\n"
     ]
    }
   ],
   "source": [
    "df1[\"Country\"]=df[\"Country\"]"
   ]
  },
  {
   "cell_type": "code",
   "execution_count": 472,
   "metadata": {},
   "outputs": [
    {
     "data": {
      "text/html": [
       "<div>\n",
       "<style scoped>\n",
       "    .dataframe tbody tr th:only-of-type {\n",
       "        vertical-align: middle;\n",
       "    }\n",
       "\n",
       "    .dataframe tbody tr th {\n",
       "        vertical-align: top;\n",
       "    }\n",
       "\n",
       "    .dataframe thead th {\n",
       "        text-align: right;\n",
       "    }\n",
       "</style>\n",
       "<table border=\"1\" class=\"dataframe\">\n",
       "  <thead>\n",
       "    <tr style=\"text-align: right;\">\n",
       "      <th></th>\n",
       "      <th>Year</th>\n",
       "      <th>Economic Loss (Million $)</th>\n",
       "      <th>Avg Waste per Capita (Kg)</th>\n",
       "      <th>Population (Million)</th>\n",
       "      <th>Household Waste (%)</th>\n",
       "      <th>Total Waste (Tons)</th>\n",
       "      <th>Country</th>\n",
       "    </tr>\n",
       "  </thead>\n",
       "  <tbody>\n",
       "    <tr>\n",
       "      <th>0</th>\n",
       "      <td>2023</td>\n",
       "      <td>40551.22</td>\n",
       "      <td>120.19</td>\n",
       "      <td>953.05</td>\n",
       "      <td>31.91</td>\n",
       "      <td>46299.69</td>\n",
       "      <td>France</td>\n",
       "    </tr>\n",
       "    <tr>\n",
       "      <th>1</th>\n",
       "      <td>2023</td>\n",
       "      <td>36980.82</td>\n",
       "      <td>104.74</td>\n",
       "      <td>1105.47</td>\n",
       "      <td>36.06</td>\n",
       "      <td>33096.57</td>\n",
       "      <td>France</td>\n",
       "    </tr>\n",
       "    <tr>\n",
       "      <th>2</th>\n",
       "      <td>2024</td>\n",
       "      <td>11196.04</td>\n",
       "      <td>136.21</td>\n",
       "      <td>1311.91</td>\n",
       "      <td>37.09</td>\n",
       "      <td>11962.89</td>\n",
       "      <td>India</td>\n",
       "    </tr>\n",
       "    <tr>\n",
       "      <th>3</th>\n",
       "      <td>2024</td>\n",
       "      <td>39191.25</td>\n",
       "      <td>179.27</td>\n",
       "      <td>1349.45</td>\n",
       "      <td>68.93</td>\n",
       "      <td>45038.72</td>\n",
       "      <td>Germany</td>\n",
       "    </tr>\n",
       "    <tr>\n",
       "      <th>4</th>\n",
       "      <td>2024</td>\n",
       "      <td>40087.26</td>\n",
       "      <td>155.55</td>\n",
       "      <td>375.84</td>\n",
       "      <td>31.16</td>\n",
       "      <td>39478.70</td>\n",
       "      <td>South Africa</td>\n",
       "    </tr>\n",
       "  </tbody>\n",
       "</table>\n",
       "</div>"
      ],
      "text/plain": [
       "   Year  Economic Loss (Million $)  Avg Waste per Capita (Kg)  \\\n",
       "0  2023                   40551.22                     120.19   \n",
       "1  2023                   36980.82                     104.74   \n",
       "2  2024                   11196.04                     136.21   \n",
       "3  2024                   39191.25                     179.27   \n",
       "4  2024                   40087.26                     155.55   \n",
       "\n",
       "   Population (Million)  Household Waste (%)  Total Waste (Tons)       Country  \n",
       "0                953.05                31.91            46299.69        France  \n",
       "1               1105.47                36.06            33096.57        France  \n",
       "2               1311.91                37.09            11962.89         India  \n",
       "3               1349.45                68.93            45038.72       Germany  \n",
       "4                375.84                31.16            39478.70  South Africa  "
      ]
     },
     "execution_count": 472,
     "metadata": {},
     "output_type": "execute_result"
    }
   ],
   "source": [
    "df1.head()"
   ]
  },
  {
   "cell_type": "markdown",
   "metadata": {},
   "source": [
    "### <b>Grouping data to keep unique (country,year) combinations only "
   ]
  },
  {
   "cell_type": "code",
   "execution_count": 473,
   "metadata": {},
   "outputs": [
    {
     "data": {
      "text/html": [
       "<div>\n",
       "<style scoped>\n",
       "    .dataframe tbody tr th:only-of-type {\n",
       "        vertical-align: middle;\n",
       "    }\n",
       "\n",
       "    .dataframe tbody tr th {\n",
       "        vertical-align: top;\n",
       "    }\n",
       "\n",
       "    .dataframe thead th {\n",
       "        text-align: right;\n",
       "    }\n",
       "</style>\n",
       "<table border=\"1\" class=\"dataframe\">\n",
       "  <thead>\n",
       "    <tr style=\"text-align: right;\">\n",
       "      <th></th>\n",
       "      <th>Country</th>\n",
       "      <th>Year</th>\n",
       "      <th>Economic Loss (Million $)</th>\n",
       "      <th>Avg Waste per Capita (Kg)</th>\n",
       "      <th>Population (Million)</th>\n",
       "      <th>Household Waste (%)</th>\n",
       "      <th>Total Waste (Tons)</th>\n",
       "    </tr>\n",
       "  </thead>\n",
       "  <tbody>\n",
       "    <tr>\n",
       "      <th>0</th>\n",
       "      <td>Argentina</td>\n",
       "      <td>2022</td>\n",
       "      <td>23893.759000</td>\n",
       "      <td>111.239667</td>\n",
       "      <td>711.312667</td>\n",
       "      <td>52.153000</td>\n",
       "      <td>24001.211667</td>\n",
       "    </tr>\n",
       "    <tr>\n",
       "      <th>1</th>\n",
       "      <td>Argentina</td>\n",
       "      <td>2023</td>\n",
       "      <td>24941.621071</td>\n",
       "      <td>124.174643</td>\n",
       "      <td>661.387143</td>\n",
       "      <td>50.462143</td>\n",
       "      <td>25361.786071</td>\n",
       "    </tr>\n",
       "    <tr>\n",
       "      <th>2</th>\n",
       "      <td>Argentina</td>\n",
       "      <td>2024</td>\n",
       "      <td>24425.670968</td>\n",
       "      <td>109.628065</td>\n",
       "      <td>667.766452</td>\n",
       "      <td>51.524516</td>\n",
       "      <td>23901.823548</td>\n",
       "    </tr>\n",
       "    <tr>\n",
       "      <th>3</th>\n",
       "      <td>Australia</td>\n",
       "      <td>2022</td>\n",
       "      <td>26995.519310</td>\n",
       "      <td>126.510690</td>\n",
       "      <td>768.739310</td>\n",
       "      <td>49.482759</td>\n",
       "      <td>27596.264138</td>\n",
       "    </tr>\n",
       "    <tr>\n",
       "      <th>4</th>\n",
       "      <td>Australia</td>\n",
       "      <td>2023</td>\n",
       "      <td>28038.661282</td>\n",
       "      <td>116.122821</td>\n",
       "      <td>715.994103</td>\n",
       "      <td>52.093077</td>\n",
       "      <td>26897.794359</td>\n",
       "    </tr>\n",
       "  </tbody>\n",
       "</table>\n",
       "</div>"
      ],
      "text/plain": [
       "     Country  Year  Economic Loss (Million $)  Avg Waste per Capita (Kg)  \\\n",
       "0  Argentina  2022               23893.759000                 111.239667   \n",
       "1  Argentina  2023               24941.621071                 124.174643   \n",
       "2  Argentina  2024               24425.670968                 109.628065   \n",
       "3  Australia  2022               26995.519310                 126.510690   \n",
       "4  Australia  2023               28038.661282                 116.122821   \n",
       "\n",
       "   Population (Million)  Household Waste (%)  Total Waste (Tons)  \n",
       "0            711.312667            52.153000        24001.211667  \n",
       "1            661.387143            50.462143        25361.786071  \n",
       "2            667.766452            51.524516        23901.823548  \n",
       "3            768.739310            49.482759        27596.264138  \n",
       "4            715.994103            52.093077        26897.794359  "
      ]
     },
     "execution_count": 473,
     "metadata": {},
     "output_type": "execute_result"
    }
   ],
   "source": [
    "df1 = df1.groupby(['Country', 'Year']).mean(numeric_only=True).reset_index()\n",
    "df1.head()"
   ]
  },
  {
   "cell_type": "markdown",
   "metadata": {},
   "source": [
    "## <b>Feature Engineerng"
   ]
  },
  {
   "cell_type": "code",
   "execution_count": 474,
   "metadata": {},
   "outputs": [],
   "source": [
    "df1['Waste_Level'] = pd.qcut(df1['Total Waste (Tons)'], q=5, labels=[\"Very Low\",\"Low\", \"Moderate\", \"High\",\"Critical\"])\n"
   ]
  },
  {
   "cell_type": "code",
   "execution_count": 475,
   "metadata": {},
   "outputs": [
    {
     "data": {
      "text/html": [
       "<div>\n",
       "<style scoped>\n",
       "    .dataframe tbody tr th:only-of-type {\n",
       "        vertical-align: middle;\n",
       "    }\n",
       "\n",
       "    .dataframe tbody tr th {\n",
       "        vertical-align: top;\n",
       "    }\n",
       "\n",
       "    .dataframe thead th {\n",
       "        text-align: right;\n",
       "    }\n",
       "</style>\n",
       "<table border=\"1\" class=\"dataframe\">\n",
       "  <thead>\n",
       "    <tr style=\"text-align: right;\">\n",
       "      <th></th>\n",
       "      <th>Country</th>\n",
       "      <th>Year</th>\n",
       "      <th>Economic Loss (Million $)</th>\n",
       "      <th>Avg Waste per Capita (Kg)</th>\n",
       "      <th>Population (Million)</th>\n",
       "      <th>Household Waste (%)</th>\n",
       "      <th>Total Waste (Tons)</th>\n",
       "      <th>Waste_Level</th>\n",
       "    </tr>\n",
       "  </thead>\n",
       "  <tbody>\n",
       "    <tr>\n",
       "      <th>0</th>\n",
       "      <td>Argentina</td>\n",
       "      <td>2022</td>\n",
       "      <td>23893.759000</td>\n",
       "      <td>111.239667</td>\n",
       "      <td>711.312667</td>\n",
       "      <td>52.153000</td>\n",
       "      <td>24001.211667</td>\n",
       "      <td>Low</td>\n",
       "    </tr>\n",
       "    <tr>\n",
       "      <th>1</th>\n",
       "      <td>Argentina</td>\n",
       "      <td>2023</td>\n",
       "      <td>24941.621071</td>\n",
       "      <td>124.174643</td>\n",
       "      <td>661.387143</td>\n",
       "      <td>50.462143</td>\n",
       "      <td>25361.786071</td>\n",
       "      <td>Moderate</td>\n",
       "    </tr>\n",
       "    <tr>\n",
       "      <th>2</th>\n",
       "      <td>Argentina</td>\n",
       "      <td>2024</td>\n",
       "      <td>24425.670968</td>\n",
       "      <td>109.628065</td>\n",
       "      <td>667.766452</td>\n",
       "      <td>51.524516</td>\n",
       "      <td>23901.823548</td>\n",
       "      <td>Low</td>\n",
       "    </tr>\n",
       "    <tr>\n",
       "      <th>3</th>\n",
       "      <td>Australia</td>\n",
       "      <td>2022</td>\n",
       "      <td>26995.519310</td>\n",
       "      <td>126.510690</td>\n",
       "      <td>768.739310</td>\n",
       "      <td>49.482759</td>\n",
       "      <td>27596.264138</td>\n",
       "      <td>Critical</td>\n",
       "    </tr>\n",
       "    <tr>\n",
       "      <th>4</th>\n",
       "      <td>Australia</td>\n",
       "      <td>2023</td>\n",
       "      <td>28038.661282</td>\n",
       "      <td>116.122821</td>\n",
       "      <td>715.994103</td>\n",
       "      <td>52.093077</td>\n",
       "      <td>26897.794359</td>\n",
       "      <td>High</td>\n",
       "    </tr>\n",
       "  </tbody>\n",
       "</table>\n",
       "</div>"
      ],
      "text/plain": [
       "     Country  Year  Economic Loss (Million $)  Avg Waste per Capita (Kg)  \\\n",
       "0  Argentina  2022               23893.759000                 111.239667   \n",
       "1  Argentina  2023               24941.621071                 124.174643   \n",
       "2  Argentina  2024               24425.670968                 109.628065   \n",
       "3  Australia  2022               26995.519310                 126.510690   \n",
       "4  Australia  2023               28038.661282                 116.122821   \n",
       "\n",
       "   Population (Million)  Household Waste (%)  Total Waste (Tons) Waste_Level  \n",
       "0            711.312667            52.153000        24001.211667         Low  \n",
       "1            661.387143            50.462143        25361.786071    Moderate  \n",
       "2            667.766452            51.524516        23901.823548         Low  \n",
       "3            768.739310            49.482759        27596.264138    Critical  \n",
       "4            715.994103            52.093077        26897.794359        High  "
      ]
     },
     "execution_count": 475,
     "metadata": {},
     "output_type": "execute_result"
    }
   ],
   "source": [
    "df1.head()"
   ]
  },
  {
   "cell_type": "code",
   "execution_count": 476,
   "metadata": {},
   "outputs": [],
   "source": [
    "df1=df1.drop(\"Total Waste (Tons)\",axis=1)"
   ]
  },
  {
   "cell_type": "markdown",
   "metadata": {},
   "source": [
    "### <b>Encoding Waste_Level"
   ]
  },
  {
   "cell_type": "code",
   "execution_count": 477,
   "metadata": {},
   "outputs": [],
   "source": [
    "from sklearn.preprocessing import OrdinalEncoder\n",
    "\n",
    "encoder = OrdinalEncoder(categories=[[\"Very Low\", \"Low\", \"Moderate\", \"High\", \"Critical\"]])\n",
    "df1[\"Waste_Level_Encoded\"] = encoder.fit_transform(df1[[\"Waste_Level\"]])\n"
   ]
  },
  {
   "cell_type": "code",
   "execution_count": 478,
   "metadata": {},
   "outputs": [
    {
     "data": {
      "text/html": [
       "<div>\n",
       "<style scoped>\n",
       "    .dataframe tbody tr th:only-of-type {\n",
       "        vertical-align: middle;\n",
       "    }\n",
       "\n",
       "    .dataframe tbody tr th {\n",
       "        vertical-align: top;\n",
       "    }\n",
       "\n",
       "    .dataframe thead th {\n",
       "        text-align: right;\n",
       "    }\n",
       "</style>\n",
       "<table border=\"1\" class=\"dataframe\">\n",
       "  <thead>\n",
       "    <tr style=\"text-align: right;\">\n",
       "      <th></th>\n",
       "      <th>Country</th>\n",
       "      <th>Year</th>\n",
       "      <th>Economic Loss (Million $)</th>\n",
       "      <th>Avg Waste per Capita (Kg)</th>\n",
       "      <th>Population (Million)</th>\n",
       "      <th>Household Waste (%)</th>\n",
       "      <th>Waste_Level</th>\n",
       "      <th>Waste_Level_Encoded</th>\n",
       "    </tr>\n",
       "  </thead>\n",
       "  <tbody>\n",
       "    <tr>\n",
       "      <th>0</th>\n",
       "      <td>Argentina</td>\n",
       "      <td>2022</td>\n",
       "      <td>23893.759000</td>\n",
       "      <td>111.239667</td>\n",
       "      <td>711.312667</td>\n",
       "      <td>52.153000</td>\n",
       "      <td>Low</td>\n",
       "      <td>1.0</td>\n",
       "    </tr>\n",
       "    <tr>\n",
       "      <th>1</th>\n",
       "      <td>Argentina</td>\n",
       "      <td>2023</td>\n",
       "      <td>24941.621071</td>\n",
       "      <td>124.174643</td>\n",
       "      <td>661.387143</td>\n",
       "      <td>50.462143</td>\n",
       "      <td>Moderate</td>\n",
       "      <td>2.0</td>\n",
       "    </tr>\n",
       "    <tr>\n",
       "      <th>2</th>\n",
       "      <td>Argentina</td>\n",
       "      <td>2024</td>\n",
       "      <td>24425.670968</td>\n",
       "      <td>109.628065</td>\n",
       "      <td>667.766452</td>\n",
       "      <td>51.524516</td>\n",
       "      <td>Low</td>\n",
       "      <td>1.0</td>\n",
       "    </tr>\n",
       "    <tr>\n",
       "      <th>3</th>\n",
       "      <td>Australia</td>\n",
       "      <td>2022</td>\n",
       "      <td>26995.519310</td>\n",
       "      <td>126.510690</td>\n",
       "      <td>768.739310</td>\n",
       "      <td>49.482759</td>\n",
       "      <td>Critical</td>\n",
       "      <td>4.0</td>\n",
       "    </tr>\n",
       "    <tr>\n",
       "      <th>4</th>\n",
       "      <td>Australia</td>\n",
       "      <td>2023</td>\n",
       "      <td>28038.661282</td>\n",
       "      <td>116.122821</td>\n",
       "      <td>715.994103</td>\n",
       "      <td>52.093077</td>\n",
       "      <td>High</td>\n",
       "      <td>3.0</td>\n",
       "    </tr>\n",
       "  </tbody>\n",
       "</table>\n",
       "</div>"
      ],
      "text/plain": [
       "     Country  Year  Economic Loss (Million $)  Avg Waste per Capita (Kg)  \\\n",
       "0  Argentina  2022               23893.759000                 111.239667   \n",
       "1  Argentina  2023               24941.621071                 124.174643   \n",
       "2  Argentina  2024               24425.670968                 109.628065   \n",
       "3  Australia  2022               26995.519310                 126.510690   \n",
       "4  Australia  2023               28038.661282                 116.122821   \n",
       "\n",
       "   Population (Million)  Household Waste (%) Waste_Level  Waste_Level_Encoded  \n",
       "0            711.312667            52.153000         Low                  1.0  \n",
       "1            661.387143            50.462143    Moderate                  2.0  \n",
       "2            667.766452            51.524516         Low                  1.0  \n",
       "3            768.739310            49.482759    Critical                  4.0  \n",
       "4            715.994103            52.093077        High                  3.0  "
      ]
     },
     "execution_count": 478,
     "metadata": {},
     "output_type": "execute_result"
    }
   ],
   "source": [
    "df1.head()"
   ]
  },
  {
   "cell_type": "code",
   "execution_count": 479,
   "metadata": {},
   "outputs": [],
   "source": [
    "df1=df1.drop(\"Waste_Level\",axis=1)"
   ]
  },
  {
   "cell_type": "markdown",
   "metadata": {},
   "source": [
    "## <b> Define response and explanatory variables"
   ]
  },
  {
   "cell_type": "code",
   "execution_count": 480,
   "metadata": {},
   "outputs": [],
   "source": [
    "X=df1.drop([\"Waste_Level_Encoded\",\"Country\"],axis=1)\n",
    "y=df1[\"Waste_Level_Encoded\"]"
   ]
  },
  {
   "cell_type": "markdown",
   "metadata": {},
   "source": [
    "<b> Saving countries in list \"countries\""
   ]
  },
  {
   "cell_type": "code",
   "execution_count": 481,
   "metadata": {},
   "outputs": [],
   "source": [
    "countries=df1[\"Country\"]"
   ]
  },
  {
   "cell_type": "markdown",
   "metadata": {},
   "source": [
    "## <b>Scaling features"
   ]
  },
  {
   "cell_type": "code",
   "execution_count": 482,
   "metadata": {},
   "outputs": [],
   "source": [
    "from sklearn.preprocessing import StandardScaler\n",
    "\n",
    "scaler = StandardScaler()\n",
    "X_scaled = scaler.fit_transform(X)\n"
   ]
  },
  {
   "cell_type": "markdown",
   "metadata": {},
   "source": [
    "## <b>Checking for sampling imbalance"
   ]
  },
  {
   "cell_type": "code",
   "execution_count": 483,
   "metadata": {},
   "outputs": [
    {
     "name": "stdout",
     "output_type": "stream",
     "text": [
      "Waste_Level_Encoded\n",
      "1.0    12\n",
      "2.0    12\n",
      "4.0    12\n",
      "3.0    12\n",
      "0.0    12\n",
      "Name: count, dtype: int64\n"
     ]
    }
   ],
   "source": [
    "print(df1['Waste_Level_Encoded'].value_counts())\n"
   ]
  },
  {
   "cell_type": "markdown",
   "metadata": {},
   "source": [
    "## <b>Train-Test Split"
   ]
  },
  {
   "cell_type": "code",
   "execution_count": 484,
   "metadata": {},
   "outputs": [],
   "source": [
    "from sklearn.model_selection import train_test_split\n",
    "\n",
    "X_train, X_test, y_train, y_test, train_idx, test_idx = train_test_split(\n",
    "    X, y, df1.index, test_size=0.2, random_state=42\n",
    ")"
   ]
  },
  {
   "cell_type": "markdown",
   "metadata": {},
   "source": [
    "## <b>Model Fitting"
   ]
  },
  {
   "cell_type": "markdown",
   "metadata": {},
   "source": [
    "### <b>SVM"
   ]
  },
  {
   "cell_type": "code",
   "execution_count": 485,
   "metadata": {},
   "outputs": [
    {
     "name": "stdout",
     "output_type": "stream",
     "text": [
      "\n",
      "🔹 Training SVM with linear kernel...\n",
      "linear Kernel Accuracy: 0.5833\n",
      "\n",
      "🔹 Training SVM with poly kernel...\n",
      "poly Kernel Accuracy: 0.5000\n",
      "\n",
      "🔹 Training SVM with rbf kernel...\n",
      "rbf Kernel Accuracy: 0.3333\n",
      "\n",
      "🔹 Training SVM with sigmoid kernel...\n",
      "sigmoid Kernel Accuracy: 0.0000\n"
     ]
    }
   ],
   "source": [
    "from sklearn.svm import SVC\n",
    "from sklearn.preprocessing import StandardScaler\n",
    "from sklearn.metrics import accuracy_score, classification_report\n",
    "\n",
    "\n",
    "# Define kernels to test\n",
    "kernels = ['linear', 'poly', 'rbf', 'sigmoid']\n",
    "\n",
    "# Train and evaluate each kernel\n",
    "for kernel in kernels:\n",
    "    print(f\"\\n🔹 Training SVM with {kernel} kernel...\")\n",
    "\n",
    "    # Train model\n",
    "    svm_model = SVC(kernel=kernel, C=1.0, random_state=42)\n",
    "    svm_model.fit(X_train, y_train)\n",
    "\n",
    "    # Predictions\n",
    "    y_pred = svm_model.predict(X_test)\n",
    "\n",
    "    # Evaluation\n",
    "    accuracy = accuracy_score(y_test, y_pred)\n",
    "    print(f\"{kernel} Kernel Accuracy: {accuracy:.4f}\")"
   ]
  },
  {
   "cell_type": "markdown",
   "metadata": {},
   "source": [
    "### <b>KNN"
   ]
  },
  {
   "cell_type": "code",
   "execution_count": 486,
   "metadata": {},
   "outputs": [
    {
     "name": "stdout",
     "output_type": "stream",
     "text": [
      "KNN Accuracy: 0.75\n",
      "KNN Classification Report:\n",
      "               precision    recall  f1-score   support\n",
      "\n",
      "         0.0       1.00      1.00      1.00         2\n",
      "         1.0       1.00      0.67      0.80         3\n",
      "         2.0       0.50      1.00      0.67         2\n",
      "         3.0       1.00      0.33      0.50         3\n",
      "         4.0       0.67      1.00      0.80         2\n",
      "\n",
      "    accuracy                           0.75        12\n",
      "   macro avg       0.83      0.80      0.75        12\n",
      "weighted avg       0.86      0.75      0.74        12\n",
      "\n"
     ]
    }
   ],
   "source": [
    "from sklearn.neighbors import KNeighborsClassifier\n",
    "\n",
    "knn_model = KNeighborsClassifier(n_neighbors=5)\n",
    "knn_model.fit(X_train, y_train)\n",
    "\n",
    "y_pred_knn = knn_model.predict(X_test)\n",
    "\n",
    "print(\"KNN Accuracy:\", accuracy_score(y_test, y_pred_knn))\n",
    "print(\"KNN Classification Report:\\n\", classification_report(y_test, y_pred_knn))\n"
   ]
  },
  {
   "cell_type": "markdown",
   "metadata": {},
   "source": [
    "### <b>Logistic Regression"
   ]
  },
  {
   "cell_type": "code",
   "execution_count": 487,
   "metadata": {},
   "outputs": [
    {
     "name": "stdout",
     "output_type": "stream",
     "text": [
      "Logistic Regression Accuracy: 0.75\n",
      "Logistic Regression Classification Report:\n",
      "               precision    recall  f1-score   support\n",
      "\n",
      "         0.0       1.00      0.50      0.67         2\n",
      "         1.0       0.67      0.67      0.67         3\n",
      "         2.0       0.67      1.00      0.80         2\n",
      "         3.0       0.67      0.67      0.67         3\n",
      "         4.0       1.00      1.00      1.00         2\n",
      "\n",
      "    accuracy                           0.75        12\n",
      "   macro avg       0.80      0.77      0.76        12\n",
      "weighted avg       0.78      0.75      0.74        12\n",
      "\n"
     ]
    },
    {
     "name": "stderr",
     "output_type": "stream",
     "text": [
      "c:\\Users\\Souhar\\AppData\\Local\\Programs\\Python\\Python312\\Lib\\site-packages\\sklearn\\linear_model\\_logistic.py:465: ConvergenceWarning: lbfgs failed to converge (status=1):\n",
      "STOP: TOTAL NO. OF ITERATIONS REACHED LIMIT.\n",
      "\n",
      "Increase the number of iterations (max_iter) or scale the data as shown in:\n",
      "    https://scikit-learn.org/stable/modules/preprocessing.html\n",
      "Please also refer to the documentation for alternative solver options:\n",
      "    https://scikit-learn.org/stable/modules/linear_model.html#logistic-regression\n",
      "  n_iter_i = _check_optimize_result(\n"
     ]
    }
   ],
   "source": [
    "from sklearn.linear_model import LogisticRegression\n",
    "\n",
    "log_reg_model = LogisticRegression(max_iter=1000, random_state=42)\n",
    "log_reg_model.fit(X_train, y_train)\n",
    "\n",
    "y_pred_log = log_reg_model.predict(X_test)\n",
    "\n",
    "from sklearn.metrics import accuracy_score, classification_report\n",
    "\n",
    "print(\"Logistic Regression Accuracy:\", accuracy_score(y_test, y_pred_log))\n",
    "print(\"Logistic Regression Classification Report:\\n\", classification_report(y_test, y_pred_log))\n"
   ]
  },
  {
   "cell_type": "markdown",
   "metadata": {},
   "source": [
    "## <b>Model Selection"
   ]
  },
  {
   "cell_type": "markdown",
   "metadata": {},
   "source": [
    "Selected model SVM with sigmoid kernel"
   ]
  },
  {
   "cell_type": "markdown",
   "metadata": {},
   "source": [
    "Applying LDA on it"
   ]
  },
  {
   "cell_type": "code",
   "execution_count": 488,
   "metadata": {},
   "outputs": [],
   "source": [
    "from sklearn.discriminant_analysis import LinearDiscriminantAnalysis"
   ]
  },
  {
   "cell_type": "code",
   "execution_count": 489,
   "metadata": {},
   "outputs": [
    {
     "name": "stdout",
     "output_type": "stream",
     "text": [
      "\n",
      "🔹 Training SVM with linear kernel...\n",
      "linear Kernel Accuracy: 0.5833\n",
      "\n",
      "🔹 Training SVM with poly kernel...\n",
      "poly Kernel Accuracy: 0.2500\n",
      "\n",
      "🔹 Training SVM with rbf kernel...\n",
      "rbf Kernel Accuracy: 0.7500\n",
      "\n",
      "🔹 Training SVM with sigmoid kernel...\n",
      "sigmoid Kernel Accuracy: 0.4167\n"
     ]
    }
   ],
   "source": [
    "lda = LinearDiscriminantAnalysis(n_components=2)  # Reduce to 2 dimensions\n",
    "X_lda = lda.fit_transform(X_scaled, y)\n",
    "\n",
    "# Split the reduced data\n",
    "X_train_lda, X_test_lda, y_train, y_test = train_test_split(X_lda, y, test_size=0.2, random_state=42)\n",
    "\n",
    "kernels = ['linear', 'poly', 'rbf', 'sigmoid']\n",
    "\n",
    "# Train and evaluate each kernel\n",
    "for kernel in kernels:\n",
    "    print(f\"\\n🔹 Training SVM with {kernel} kernel...\")\n",
    "\n",
    "    # Train model\n",
    "    svm_model = SVC(kernel=kernel, C=1.0, random_state=42)\n",
    "    svm_model.fit(X_train_lda, y_train)\n",
    "\n",
    "    # Predictions\n",
    "    y_pred = svm_model.predict(X_test_lda)\n",
    "\n",
    "    # Evaluation\n",
    "    accuracy = accuracy_score(y_test, y_pred)\n",
    "    print(f\"{kernel} Kernel Accuracy: {accuracy:.4f}\")\n"
   ]
  },
  {
   "cell_type": "markdown",
   "metadata": {},
   "source": [
    "Afer LDA best model with highest accuracy is SVM with kernel \"rbf\""
   ]
  },
  {
   "cell_type": "markdown",
   "metadata": {},
   "source": [
    "Best model for the classification task is SVM"
   ]
  },
  {
   "cell_type": "code",
   "execution_count": 490,
   "metadata": {},
   "outputs": [
    {
     "name": "stdout",
     "output_type": "stream",
     "text": [
      "\n",
      "🔹 Training SVM with rbf kernel...\n",
      "rbf Kernel Accuracy: 0.7500\n",
      "Classification Report:\n",
      "               precision    recall  f1-score   support\n",
      "\n",
      "         0.0       1.00      0.50      0.67         2\n",
      "         1.0       0.67      0.67      0.67         3\n",
      "         2.0       1.00      0.50      0.67         2\n",
      "         3.0       0.60      1.00      0.75         3\n",
      "         4.0       1.00      1.00      1.00         2\n",
      "\n",
      "    accuracy                           0.75        12\n",
      "   macro avg       0.85      0.73      0.75        12\n",
      "weighted avg       0.82      0.75      0.74        12\n",
      "\n"
     ]
    }
   ],
   "source": [
    "print(f\"\\n🔹 Training SVM with rbf kernel...\")\n",
    "\n",
    "svm_model = SVC(kernel=\"rbf\", C=1.0, random_state=42)\n",
    "svm_model.fit(X_train_lda, y_train)\n",
    "\n",
    "y_pred = svm_model.predict(X_test_lda)\n",
    "\n",
    "accuracy = accuracy_score(y_test, y_pred)\n",
    "print(f\"rbf Kernel Accuracy: {accuracy:.4f}\")\n",
    "print(\"Classification Report:\\n\", classification_report(y_test, y_pred))"
   ]
  },
  {
   "cell_type": "markdown",
   "metadata": {},
   "source": []
  },
  {
   "cell_type": "code",
   "execution_count": 491,
   "metadata": {},
   "outputs": [],
   "source": [
    "df_results = pd.DataFrame({\n",
    "    \"Country\": countries[X_test.index],  # Retrieve country names using test indices\n",
    "    \"Actual Classification\": y_test.values,\n",
    "    \"Predicted Classification\": y_pred\n",
    "})\n"
   ]
  },
  {
   "cell_type": "code",
   "execution_count": 492,
   "metadata": {},
   "outputs": [
    {
     "data": {
      "text/html": [
       "<div>\n",
       "<style scoped>\n",
       "    .dataframe tbody tr th:only-of-type {\n",
       "        vertical-align: middle;\n",
       "    }\n",
       "\n",
       "    .dataframe tbody tr th {\n",
       "        vertical-align: top;\n",
       "    }\n",
       "\n",
       "    .dataframe thead th {\n",
       "        text-align: right;\n",
       "    }\n",
       "</style>\n",
       "<table border=\"1\" class=\"dataframe\">\n",
       "  <thead>\n",
       "    <tr style=\"text-align: right;\">\n",
       "      <th></th>\n",
       "      <th>Country</th>\n",
       "      <th>Actual Classification</th>\n",
       "      <th>Predicted Classification</th>\n",
       "    </tr>\n",
       "  </thead>\n",
       "  <tbody>\n",
       "    <tr>\n",
       "      <th>0</th>\n",
       "      <td>Argentina</td>\n",
       "      <td>1.0</td>\n",
       "      <td>1.0</td>\n",
       "    </tr>\n",
       "    <tr>\n",
       "      <th>5</th>\n",
       "      <td>Australia</td>\n",
       "      <td>4.0</td>\n",
       "      <td>4.0</td>\n",
       "    </tr>\n",
       "    <tr>\n",
       "      <th>36</th>\n",
       "      <td>Russia</td>\n",
       "      <td>2.0</td>\n",
       "      <td>2.0</td>\n",
       "    </tr>\n",
       "    <tr>\n",
       "      <th>45</th>\n",
       "      <td>South Korea</td>\n",
       "      <td>3.0</td>\n",
       "      <td>3.0</td>\n",
       "    </tr>\n",
       "    <tr>\n",
       "      <th>13</th>\n",
       "      <td>China</td>\n",
       "      <td>1.0</td>\n",
       "      <td>1.0</td>\n",
       "    </tr>\n",
       "    <tr>\n",
       "      <th>54</th>\n",
       "      <td>UK</td>\n",
       "      <td>0.0</td>\n",
       "      <td>1.0</td>\n",
       "    </tr>\n",
       "    <tr>\n",
       "      <th>33</th>\n",
       "      <td>Mexico</td>\n",
       "      <td>2.0</td>\n",
       "      <td>3.0</td>\n",
       "    </tr>\n",
       "    <tr>\n",
       "      <th>48</th>\n",
       "      <td>Spain</td>\n",
       "      <td>3.0</td>\n",
       "      <td>3.0</td>\n",
       "    </tr>\n",
       "    <tr>\n",
       "      <th>12</th>\n",
       "      <td>China</td>\n",
       "      <td>1.0</td>\n",
       "      <td>3.0</td>\n",
       "    </tr>\n",
       "    <tr>\n",
       "      <th>57</th>\n",
       "      <td>USA</td>\n",
       "      <td>4.0</td>\n",
       "      <td>4.0</td>\n",
       "    </tr>\n",
       "    <tr>\n",
       "      <th>46</th>\n",
       "      <td>South Korea</td>\n",
       "      <td>0.0</td>\n",
       "      <td>0.0</td>\n",
       "    </tr>\n",
       "    <tr>\n",
       "      <th>50</th>\n",
       "      <td>Spain</td>\n",
       "      <td>3.0</td>\n",
       "      <td>3.0</td>\n",
       "    </tr>\n",
       "  </tbody>\n",
       "</table>\n",
       "</div>"
      ],
      "text/plain": [
       "        Country  Actual Classification  Predicted Classification\n",
       "0     Argentina                    1.0                       1.0\n",
       "5     Australia                    4.0                       4.0\n",
       "36       Russia                    2.0                       2.0\n",
       "45  South Korea                    3.0                       3.0\n",
       "13        China                    1.0                       1.0\n",
       "54           UK                    0.0                       1.0\n",
       "33       Mexico                    2.0                       3.0\n",
       "48        Spain                    3.0                       3.0\n",
       "12        China                    1.0                       3.0\n",
       "57          USA                    4.0                       4.0\n",
       "46  South Korea                    0.0                       0.0\n",
       "50        Spain                    3.0                       3.0"
      ]
     },
     "execution_count": 492,
     "metadata": {},
     "output_type": "execute_result"
    }
   ],
   "source": [
    "df_results"
   ]
  },
  {
   "cell_type": "markdown",
   "metadata": {},
   "source": []
  }
 ],
 "metadata": {
  "kernelspec": {
   "display_name": "Python 3",
   "language": "python",
   "name": "python3"
  },
  "language_info": {
   "codemirror_mode": {
    "name": "ipython",
    "version": 3
   },
   "file_extension": ".py",
   "mimetype": "text/x-python",
   "name": "python",
   "nbconvert_exporter": "python",
   "pygments_lexer": "ipython3",
   "version": "3.12.5"
  }
 },
 "nbformat": 4,
 "nbformat_minor": 2
}
