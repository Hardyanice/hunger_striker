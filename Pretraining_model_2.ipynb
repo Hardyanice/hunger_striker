{
 "cells": [
  {
   "cell_type": "markdown",
   "metadata": {},
   "source": [
    "## <b>Import Libraries"
   ]
  },
  {
   "cell_type": "code",
   "execution_count": null,
   "metadata": {},
   "outputs": [],
   "source": [
    "import numpy as np\n",
    "import pandas as pd\n",
    "import matplotlib.pyplot as plt\n",
    "from sklearn.preprocessing import MinMaxScaler\n",
    "from sklearn.metrics import mean_squared_error, mean_absolute_error, r2_score\n",
    "import seaborn as sns\n",
    "sns.set()"
   ]
  },
  {
   "cell_type": "markdown",
   "metadata": {},
   "source": [
    "## <b>Import Data"
   ]
  },
  {
   "cell_type": "code",
   "execution_count": 1,
   "metadata": {},
   "outputs": [
    {
     "ename": "NameError",
     "evalue": "name 'pd' is not defined",
     "output_type": "error",
     "traceback": [
      "\u001b[31m---------------------------------------------------------------------------\u001b[39m",
      "\u001b[31mNameError\u001b[39m                                 Traceback (most recent call last)",
      "\u001b[36mCell\u001b[39m\u001b[36m \u001b[39m\u001b[32mIn[1]\u001b[39m\u001b[32m, line 1\u001b[39m\n\u001b[32m----> \u001b[39m\u001b[32m1\u001b[39m df=\u001b[43mpd\u001b[49m.read_csv(\u001b[33m\"\u001b[39m\u001b[33mC:/Users/Souhar/OneDrive/Desktop/Christ programming/MDS372(Machine Learning)/Final Project/Dataset/Food wastage data.csv\u001b[39m\u001b[33m\"\u001b[39m)\n",
      "\u001b[31mNameError\u001b[39m: name 'pd' is not defined"
     ]
    }
   ],
   "source": [
    "df=pd.read_csv(\"C:/Users/Souhar/OneDrive/Desktop/Christ programming/MDS372(Machine Learning)/Final Project/Dataset/Food wastage data.csv\")"
   ]
  },
  {
   "cell_type": "code",
   "execution_count": null,
   "metadata": {},
   "outputs": [],
   "source": [
    "df=df.drop(\"Valid\",axis=1)"
   ]
  },
  {
   "cell_type": "markdown",
   "metadata": {},
   "source": [
    "## <b>Data Preprocessing"
   ]
  },
  {
   "cell_type": "markdown",
   "metadata": {},
   "source": [
    "### <b>Encoding categorical variables"
   ]
  },
  {
   "cell_type": "code",
   "execution_count": null,
   "metadata": {},
   "outputs": [
    {
     "data": {
      "text/plain": [
       "array(['Fruits & Vegetables', 'Beverages', 'Prepared Food', 'Frozen Food',\n",
       "       'Meat & Seafood', 'Grains & Cereals', 'Bakery Items',\n",
       "       'Dairy Products'], dtype=object)"
      ]
     },
     "execution_count": 106,
     "metadata": {},
     "output_type": "execute_result"
    }
   ],
   "source": [
    "df[\"Food Category\"].unique()"
   ]
  },
  {
   "cell_type": "code",
   "execution_count": null,
   "metadata": {},
   "outputs": [],
   "source": [
    "from sklearn.preprocessing import OneHotEncoder\n",
    "\n",
    "onehot_encoder = OneHotEncoder(sparse_output=False)  # Updated parameter name\n",
    "\n",
    "encoded_array = onehot_encoder.fit_transform(df[[\"Food Category\"]])\n",
    "encoded_df = pd.DataFrame(encoded_array, columns=onehot_encoder.get_feature_names_out([\"Food Category\"]))\n",
    "\n",
    "df = pd.concat([df, encoded_df], axis=1)\n",
    "df=df.drop(\"Food Category\",axis=1)\n"
   ]
  },
  {
   "cell_type": "code",
   "execution_count": null,
   "metadata": {},
   "outputs": [],
   "source": []
  },
  {
   "cell_type": "markdown",
   "metadata": {},
   "source": [
    "### <b>Feature Engineering for classification task"
   ]
  },
  {
   "cell_type": "code",
   "execution_count": null,
   "metadata": {},
   "outputs": [],
   "source": [
    "df[\"Waste Category\"] = pd.qcut(df[\"Total Waste (Tons)\"], q=3, labels=[\"Low\", \"Medium\", \"High\"])\n"
   ]
  },
  {
   "cell_type": "markdown",
   "metadata": {},
   "source": [
    "<b>Encoding Response variable"
   ]
  },
  {
   "cell_type": "code",
   "execution_count": null,
   "metadata": {},
   "outputs": [
    {
     "data": {
      "text/html": [
       "<div>\n",
       "<style scoped>\n",
       "    .dataframe tbody tr th:only-of-type {\n",
       "        vertical-align: middle;\n",
       "    }\n",
       "\n",
       "    .dataframe tbody tr th {\n",
       "        vertical-align: top;\n",
       "    }\n",
       "\n",
       "    .dataframe thead th {\n",
       "        text-align: right;\n",
       "    }\n",
       "</style>\n",
       "<table border=\"1\" class=\"dataframe\">\n",
       "  <thead>\n",
       "    <tr style=\"text-align: right;\">\n",
       "      <th></th>\n",
       "      <th>Country</th>\n",
       "      <th>Year</th>\n",
       "      <th>Total Waste (Tons)</th>\n",
       "      <th>Economic Loss (Million $)</th>\n",
       "      <th>Avg Waste per Capita (Kg)</th>\n",
       "      <th>Population (Million)</th>\n",
       "      <th>Household Waste (%)</th>\n",
       "      <th>Food Category_Bakery Items</th>\n",
       "      <th>Food Category_Beverages</th>\n",
       "      <th>Food Category_Dairy Products</th>\n",
       "      <th>Food Category_Frozen Food</th>\n",
       "      <th>Food Category_Fruits &amp; Vegetables</th>\n",
       "      <th>Food Category_Grains &amp; Cereals</th>\n",
       "      <th>Food Category_Meat &amp; Seafood</th>\n",
       "      <th>Food Category_Prepared Food</th>\n",
       "      <th>Waste Category Encoded</th>\n",
       "    </tr>\n",
       "  </thead>\n",
       "  <tbody>\n",
       "    <tr>\n",
       "      <th>0</th>\n",
       "      <td>France</td>\n",
       "      <td>2023</td>\n",
       "      <td>46299.69</td>\n",
       "      <td>40551.22</td>\n",
       "      <td>120.19</td>\n",
       "      <td>953.05</td>\n",
       "      <td>31.91</td>\n",
       "      <td>0.0</td>\n",
       "      <td>0.0</td>\n",
       "      <td>0.0</td>\n",
       "      <td>0.0</td>\n",
       "      <td>1.0</td>\n",
       "      <td>0.0</td>\n",
       "      <td>0.0</td>\n",
       "      <td>0.0</td>\n",
       "      <td>2.0</td>\n",
       "    </tr>\n",
       "    <tr>\n",
       "      <th>1</th>\n",
       "      <td>France</td>\n",
       "      <td>2023</td>\n",
       "      <td>33096.57</td>\n",
       "      <td>36980.82</td>\n",
       "      <td>104.74</td>\n",
       "      <td>1105.47</td>\n",
       "      <td>36.06</td>\n",
       "      <td>0.0</td>\n",
       "      <td>1.0</td>\n",
       "      <td>0.0</td>\n",
       "      <td>0.0</td>\n",
       "      <td>0.0</td>\n",
       "      <td>0.0</td>\n",
       "      <td>0.0</td>\n",
       "      <td>0.0</td>\n",
       "      <td>1.0</td>\n",
       "    </tr>\n",
       "    <tr>\n",
       "      <th>2</th>\n",
       "      <td>India</td>\n",
       "      <td>2024</td>\n",
       "      <td>11962.89</td>\n",
       "      <td>11196.04</td>\n",
       "      <td>136.21</td>\n",
       "      <td>1311.91</td>\n",
       "      <td>37.09</td>\n",
       "      <td>0.0</td>\n",
       "      <td>0.0</td>\n",
       "      <td>0.0</td>\n",
       "      <td>0.0</td>\n",
       "      <td>1.0</td>\n",
       "      <td>0.0</td>\n",
       "      <td>0.0</td>\n",
       "      <td>0.0</td>\n",
       "      <td>0.0</td>\n",
       "    </tr>\n",
       "    <tr>\n",
       "      <th>3</th>\n",
       "      <td>Germany</td>\n",
       "      <td>2024</td>\n",
       "      <td>45038.72</td>\n",
       "      <td>39191.25</td>\n",
       "      <td>179.27</td>\n",
       "      <td>1349.45</td>\n",
       "      <td>68.93</td>\n",
       "      <td>0.0</td>\n",
       "      <td>0.0</td>\n",
       "      <td>0.0</td>\n",
       "      <td>0.0</td>\n",
       "      <td>0.0</td>\n",
       "      <td>0.0</td>\n",
       "      <td>0.0</td>\n",
       "      <td>1.0</td>\n",
       "      <td>2.0</td>\n",
       "    </tr>\n",
       "    <tr>\n",
       "      <th>4</th>\n",
       "      <td>South Africa</td>\n",
       "      <td>2024</td>\n",
       "      <td>39478.70</td>\n",
       "      <td>40087.26</td>\n",
       "      <td>155.55</td>\n",
       "      <td>375.84</td>\n",
       "      <td>31.16</td>\n",
       "      <td>0.0</td>\n",
       "      <td>0.0</td>\n",
       "      <td>0.0</td>\n",
       "      <td>1.0</td>\n",
       "      <td>0.0</td>\n",
       "      <td>0.0</td>\n",
       "      <td>0.0</td>\n",
       "      <td>0.0</td>\n",
       "      <td>2.0</td>\n",
       "    </tr>\n",
       "  </tbody>\n",
       "</table>\n",
       "</div>"
      ],
      "text/plain": [
       "        Country  Year  Total Waste (Tons)  Economic Loss (Million $)  \\\n",
       "0        France  2023            46299.69                   40551.22   \n",
       "1        France  2023            33096.57                   36980.82   \n",
       "2         India  2024            11962.89                   11196.04   \n",
       "3       Germany  2024            45038.72                   39191.25   \n",
       "4  South Africa  2024            39478.70                   40087.26   \n",
       "\n",
       "   Avg Waste per Capita (Kg)  Population (Million)  Household Waste (%)  \\\n",
       "0                     120.19                953.05                31.91   \n",
       "1                     104.74               1105.47                36.06   \n",
       "2                     136.21               1311.91                37.09   \n",
       "3                     179.27               1349.45                68.93   \n",
       "4                     155.55                375.84                31.16   \n",
       "\n",
       "   Food Category_Bakery Items  Food Category_Beverages  \\\n",
       "0                         0.0                      0.0   \n",
       "1                         0.0                      1.0   \n",
       "2                         0.0                      0.0   \n",
       "3                         0.0                      0.0   \n",
       "4                         0.0                      0.0   \n",
       "\n",
       "   Food Category_Dairy Products  Food Category_Frozen Food  \\\n",
       "0                           0.0                        0.0   \n",
       "1                           0.0                        0.0   \n",
       "2                           0.0                        0.0   \n",
       "3                           0.0                        0.0   \n",
       "4                           0.0                        1.0   \n",
       "\n",
       "   Food Category_Fruits & Vegetables  Food Category_Grains & Cereals  \\\n",
       "0                                1.0                             0.0   \n",
       "1                                0.0                             0.0   \n",
       "2                                1.0                             0.0   \n",
       "3                                0.0                             0.0   \n",
       "4                                0.0                             0.0   \n",
       "\n",
       "   Food Category_Meat & Seafood  Food Category_Prepared Food  \\\n",
       "0                           0.0                          0.0   \n",
       "1                           0.0                          0.0   \n",
       "2                           0.0                          0.0   \n",
       "3                           0.0                          1.0   \n",
       "4                           0.0                          0.0   \n",
       "\n",
       "   Waste Category Encoded  \n",
       "0                     2.0  \n",
       "1                     1.0  \n",
       "2                     0.0  \n",
       "3                     2.0  \n",
       "4                     2.0  "
      ]
     },
     "execution_count": 109,
     "metadata": {},
     "output_type": "execute_result"
    }
   ],
   "source": [
    "from sklearn.preprocessing import OrdinalEncoder\n",
    "\n",
    "waste_category_order = [[\"Low\", \"Medium\", \"High\"]]\n",
    "\n",
    "encoder = OrdinalEncoder(categories=waste_category_order)\n",
    "df[\"Waste Category Encoded\"] = encoder.fit_transform(df[[\"Waste Category\"]])\n",
    "df=df.drop([\"Waste Category\"],axis=1)\n",
    "df.head()\n"
   ]
  },
  {
   "cell_type": "markdown",
   "metadata": {},
   "source": [
    "## <b>Feature Importance and Selection"
   ]
  },
  {
   "cell_type": "code",
   "execution_count": null,
   "metadata": {},
   "outputs": [],
   "source": [
    "X=df.drop([\"Waste Category Encoded\",\"Country\",\"Total Waste (Tons)\"],axis=1)\n",
    "y=df[\"Waste Category Encoded\"]"
   ]
  },
  {
   "cell_type": "code",
   "execution_count": null,
   "metadata": {},
   "outputs": [
    {
     "name": "stderr",
     "output_type": "stream",
     "text": [
      "c:\\Users\\Souhar\\AppData\\Local\\Programs\\Python\\Python312\\Lib\\site-packages\\sklearn\\feature_selection\\_rfe.py:300: UserWarning: Found n_features_to_select=14 > n_features=13. There will be no feature selection and all features will be kept.\n",
      "  warnings.warn(\n"
     ]
    },
    {
     "name": "stdout",
     "output_type": "stream",
     "text": [
      "Year: 0.0146\n",
      "Economic Loss (Million $): 0.7564\n",
      "Avg Waste per Capita (Kg): 0.0672\n",
      "Population (Million): 0.0662\n",
      "Household Waste (%): 0.0648\n",
      "Food Category_Bakery Items: 0.0040\n",
      "Food Category_Beverages: 0.0039\n",
      "Food Category_Dairy Products: 0.0037\n",
      "Food Category_Frozen Food: 0.0036\n",
      "Food Category_Fruits & Vegetables: 0.0045\n",
      "Food Category_Grains & Cereals: 0.0036\n",
      "Food Category_Meat & Seafood: 0.0033\n",
      "Food Category_Prepared Food: 0.0043\n"
     ]
    }
   ],
   "source": [
    "from sklearn.feature_selection import RFE\n",
    "from sklearn.ensemble import RandomForestClassifier\n",
    "\n",
    "model = RandomForestClassifier()\n",
    "\n",
    "rfe = RFE(estimator=model, n_features_to_select=14) \n",
    "rfe.fit(X, y)  \n",
    "\n",
    "feature_importances = rfe.estimator_.feature_importances_\n",
    "selected_features = X.columns[rfe.support_]  \n",
    "\n",
    "# Print selected features and their importance scores\n",
    "for feature, importance in zip(selected_features, feature_importances):\n",
    "    print(f\"{feature}: {importance:.4f}\")\n"
   ]
  },
  {
   "cell_type": "markdown",
   "metadata": {},
   "source": [
    "We see that food categories have very less importance in the data. So we drop them"
   ]
  },
  {
   "cell_type": "markdown",
   "metadata": {},
   "source": [
    "### <b> Dropping food categories"
   ]
  },
  {
   "cell_type": "code",
   "execution_count": null,
   "metadata": {},
   "outputs": [
    {
     "name": "stdout",
     "output_type": "stream",
     "text": [
      "Selected Features: Index(['Year', 'Economic Loss (Million $)', 'Avg Waste per Capita (Kg)',\n",
      "       'Population (Million)', 'Household Waste (%)'],\n",
      "      dtype='object')\n"
     ]
    }
   ],
   "source": [
    "threshold = 0.01\n",
    "\n",
    "selected_features = selected_features[np.array(feature_importances) >= threshold]\n",
    "\n",
    "print(\"Selected Features:\", selected_features)"
   ]
  },
  {
   "cell_type": "code",
   "execution_count": null,
   "metadata": {},
   "outputs": [
    {
     "data": {
      "text/html": [
       "<div>\n",
       "<style scoped>\n",
       "    .dataframe tbody tr th:only-of-type {\n",
       "        vertical-align: middle;\n",
       "    }\n",
       "\n",
       "    .dataframe tbody tr th {\n",
       "        vertical-align: top;\n",
       "    }\n",
       "\n",
       "    .dataframe thead th {\n",
       "        text-align: right;\n",
       "    }\n",
       "</style>\n",
       "<table border=\"1\" class=\"dataframe\">\n",
       "  <thead>\n",
       "    <tr style=\"text-align: right;\">\n",
       "      <th></th>\n",
       "      <th>Year</th>\n",
       "      <th>Economic Loss (Million $)</th>\n",
       "      <th>Avg Waste per Capita (Kg)</th>\n",
       "      <th>Population (Million)</th>\n",
       "      <th>Household Waste (%)</th>\n",
       "    </tr>\n",
       "  </thead>\n",
       "  <tbody>\n",
       "    <tr>\n",
       "      <th>0</th>\n",
       "      <td>2023</td>\n",
       "      <td>40551.22</td>\n",
       "      <td>120.19</td>\n",
       "      <td>953.05</td>\n",
       "      <td>31.91</td>\n",
       "    </tr>\n",
       "    <tr>\n",
       "      <th>1</th>\n",
       "      <td>2023</td>\n",
       "      <td>36980.82</td>\n",
       "      <td>104.74</td>\n",
       "      <td>1105.47</td>\n",
       "      <td>36.06</td>\n",
       "    </tr>\n",
       "    <tr>\n",
       "      <th>2</th>\n",
       "      <td>2024</td>\n",
       "      <td>11196.04</td>\n",
       "      <td>136.21</td>\n",
       "      <td>1311.91</td>\n",
       "      <td>37.09</td>\n",
       "    </tr>\n",
       "    <tr>\n",
       "      <th>3</th>\n",
       "      <td>2024</td>\n",
       "      <td>39191.25</td>\n",
       "      <td>179.27</td>\n",
       "      <td>1349.45</td>\n",
       "      <td>68.93</td>\n",
       "    </tr>\n",
       "    <tr>\n",
       "      <th>4</th>\n",
       "      <td>2024</td>\n",
       "      <td>40087.26</td>\n",
       "      <td>155.55</td>\n",
       "      <td>375.84</td>\n",
       "      <td>31.16</td>\n",
       "    </tr>\n",
       "  </tbody>\n",
       "</table>\n",
       "</div>"
      ],
      "text/plain": [
       "   Year  Economic Loss (Million $)  Avg Waste per Capita (Kg)  \\\n",
       "0  2023                   40551.22                     120.19   \n",
       "1  2023                   36980.82                     104.74   \n",
       "2  2024                   11196.04                     136.21   \n",
       "3  2024                   39191.25                     179.27   \n",
       "4  2024                   40087.26                     155.55   \n",
       "\n",
       "   Population (Million)  Household Waste (%)  \n",
       "0                953.05                31.91  \n",
       "1               1105.47                36.06  \n",
       "2               1311.91                37.09  \n",
       "3               1349.45                68.93  \n",
       "4                375.84                31.16  "
      ]
     },
     "execution_count": 113,
     "metadata": {},
     "output_type": "execute_result"
    }
   ],
   "source": [
    "df1 = X[selected_features]\n",
    "df1.head()"
   ]
  },
  {
   "cell_type": "markdown",
   "metadata": {},
   "source": [
    "<b>Reintroducing important columns"
   ]
  },
  {
   "cell_type": "code",
   "execution_count": null,
   "metadata": {},
   "outputs": [
    {
     "name": "stderr",
     "output_type": "stream",
     "text": [
      "C:\\Users\\Souhar\\AppData\\Local\\Temp\\ipykernel_21536\\3108425342.py:1: SettingWithCopyWarning: \n",
      "A value is trying to be set on a copy of a slice from a DataFrame.\n",
      "Try using .loc[row_indexer,col_indexer] = value instead\n",
      "\n",
      "See the caveats in the documentation: https://pandas.pydata.org/pandas-docs/stable/user_guide/indexing.html#returning-a-view-versus-a-copy\n",
      "  df1[\"Total Waste (Tons)\"]=df[\"Total Waste (Tons)\"]\n"
     ]
    }
   ],
   "source": [
    "df1[\"Total Waste (Tons)\"]=df[\"Total Waste (Tons)\"]"
   ]
  },
  {
   "cell_type": "code",
   "execution_count": null,
   "metadata": {},
   "outputs": [
    {
     "name": "stderr",
     "output_type": "stream",
     "text": [
      "C:\\Users\\Souhar\\AppData\\Local\\Temp\\ipykernel_21536\\2912594475.py:1: SettingWithCopyWarning: \n",
      "A value is trying to be set on a copy of a slice from a DataFrame.\n",
      "Try using .loc[row_indexer,col_indexer] = value instead\n",
      "\n",
      "See the caveats in the documentation: https://pandas.pydata.org/pandas-docs/stable/user_guide/indexing.html#returning-a-view-versus-a-copy\n",
      "  df1[\"Country\"]=df[\"Country\"]\n"
     ]
    }
   ],
   "source": [
    "df1[\"Country\"]=df[\"Country\"]"
   ]
  },
  {
   "cell_type": "markdown",
   "metadata": {},
   "source": [
    "### <b>Grouping data to keep unique (country,year) combinations only "
   ]
  },
  {
   "cell_type": "code",
   "execution_count": null,
   "metadata": {},
   "outputs": [],
   "source": [
    "df1 = df1.groupby(['Country', 'Year']).mean(numeric_only=True).reset_index()\n"
   ]
  },
  {
   "cell_type": "markdown",
   "metadata": {},
   "source": [
    "## <b>Feature Engineerng"
   ]
  },
  {
   "cell_type": "code",
   "execution_count": null,
   "metadata": {},
   "outputs": [],
   "source": [
    "df1['Waste_Level'] = pd.qcut(df1['Total Waste (Tons)'], q=5, labels=[\"Very Low\",\"Low\", \"Moderate\", \"High\",\"Critical\"])\n"
   ]
  },
  {
   "cell_type": "code",
   "execution_count": null,
   "metadata": {},
   "outputs": [],
   "source": [
    "df1=df1.drop(\"Total Waste (Tons)\",axis=1)"
   ]
  },
  {
   "cell_type": "markdown",
   "metadata": {},
   "source": [
    "### <b>Encoding Waste_Level"
   ]
  },
  {
   "cell_type": "code",
   "execution_count": null,
   "metadata": {},
   "outputs": [],
   "source": [
    "from sklearn.preprocessing import OrdinalEncoder\n",
    "\n",
    "encoder = OrdinalEncoder(categories=[[\"Very Low\", \"Low\", \"Moderate\", \"High\", \"Critical\"]])\n",
    "df1[\"Waste_Level_Encoded\"] = encoder.fit_transform(df1[[\"Waste_Level\"]])\n"
   ]
  },
  {
   "cell_type": "code",
   "execution_count": null,
   "metadata": {},
   "outputs": [],
   "source": [
    "df1=df1.drop(\"Waste_Level\",axis=1)"
   ]
  },
  {
   "cell_type": "markdown",
   "metadata": {},
   "source": [
    "## <b> Define response and explanatory variables"
   ]
  },
  {
   "cell_type": "code",
   "execution_count": null,
   "metadata": {},
   "outputs": [],
   "source": [
    "X=df1.drop([\"Waste_Level_Encoded\"],axis=1)"
   ]
  },
  {
   "cell_type": "code",
   "execution_count": 121,
   "metadata": {},
   "outputs": [],
   "source": [
    "X=df1.drop([\"Waste_Level_Encoded\",\"Country\"],axis=1)\n",
    "y=df1[\"Waste_Level_Encoded\"]"
   ]
  },
  {
   "cell_type": "markdown",
   "metadata": {},
   "source": [
    "## <b>Scaling features"
   ]
  },
  {
   "cell_type": "code",
   "execution_count": 122,
   "metadata": {},
   "outputs": [],
   "source": [
    "from sklearn.preprocessing import StandardScaler\n",
    "\n",
    "scaler = StandardScaler()\n",
    "X_scaled = scaler.fit_transform(X)\n"
   ]
  },
  {
   "cell_type": "markdown",
   "metadata": {},
   "source": [
    "## <b>Train-Test Split"
   ]
  },
  {
   "cell_type": "code",
   "execution_count": 123,
   "metadata": {},
   "outputs": [],
   "source": [
    "from sklearn.model_selection import train_test_split\n",
    "\n",
    "X_train, X_test, y_train, y_test, train_idx, test_idx = train_test_split(\n",
    "    X, y, df1.index, test_size=0.2, random_state=42\n",
    ")"
   ]
  },
  {
   "cell_type": "markdown",
   "metadata": {},
   "source": [
    "## <b>Model Fitting"
   ]
  },
  {
   "cell_type": "markdown",
   "metadata": {},
   "source": [
    "### <b>SVM"
   ]
  },
  {
   "cell_type": "code",
   "execution_count": 124,
   "metadata": {},
   "outputs": [],
   "source": [
    "from sklearn.discriminant_analysis import LinearDiscriminantAnalysis"
   ]
  },
  {
   "cell_type": "code",
   "execution_count": 125,
   "metadata": {},
   "outputs": [],
   "source": [
    "lda = LinearDiscriminantAnalysis(n_components=2)  # Reduce to 2 dimensions\n",
    "X_lda = lda.fit_transform(X_scaled, y)\n",
    "\n",
    "# Split the reduced data\n",
    "X_train_lda, X_test_lda, y_train, y_test = train_test_split(X_lda, y, test_size=0.2, random_state=42)\n"
   ]
  },
  {
   "cell_type": "code",
   "execution_count": 126,
   "metadata": {},
   "outputs": [
    {
     "name": "stdout",
     "output_type": "stream",
     "text": [
      "\n",
      "🔹 Training SVM with rbf kernel...\n",
      "rbf Kernel Accuracy: 0.7500\n",
      "Classification Report:\n",
      "               precision    recall  f1-score   support\n",
      "\n",
      "         0.0       1.00      0.50      0.67         2\n",
      "         1.0       0.67      0.67      0.67         3\n",
      "         2.0       1.00      0.50      0.67         2\n",
      "         3.0       0.60      1.00      0.75         3\n",
      "         4.0       1.00      1.00      1.00         2\n",
      "\n",
      "    accuracy                           0.75        12\n",
      "   macro avg       0.85      0.73      0.75        12\n",
      "weighted avg       0.82      0.75      0.74        12\n",
      "\n"
     ]
    }
   ],
   "source": [
    "from sklearn.svm import SVC\n",
    "from sklearn.metrics import accuracy_score, classification_report\n",
    "\n",
    "print(f\"\\n🔹 Training SVM with rbf kernel...\")\n",
    "\n",
    "svm_model = SVC(kernel=\"rbf\", C=1.0, random_state=42)\n",
    "svm_model.fit(X_train_lda, y_train)\n",
    "\n",
    "y_pred = svm_model.predict(X_test_lda)\n",
    "\n",
    "accuracy = accuracy_score(y_test, y_pred)\n",
    "print(f\"rbf Kernel Accuracy: {accuracy:.4f}\")\n",
    "print(\"Classification Report:\\n\", classification_report(y_test, y_pred))"
   ]
  },
  {
   "cell_type": "code",
   "execution_count": 127,
   "metadata": {},
   "outputs": [
    {
     "data": {
      "text/plain": [
       "['svm_model.pkl']"
      ]
     },
     "execution_count": 127,
     "metadata": {},
     "output_type": "execute_result"
    }
   ],
   "source": [
    "import joblib\n",
    "joblib.dump(svm_model, \"svm_model.pkl\")"
   ]
  }
 ],
 "metadata": {
  "kernelspec": {
   "display_name": "Python 3",
   "language": "python",
   "name": "python3"
  },
  "language_info": {
   "codemirror_mode": {
    "name": "ipython",
    "version": 3
   },
   "file_extension": ".py",
   "mimetype": "text/x-python",
   "name": "python",
   "nbconvert_exporter": "python",
   "pygments_lexer": "ipython3",
   "version": "3.12.5"
  }
 },
 "nbformat": 4,
 "nbformat_minor": 2
}
